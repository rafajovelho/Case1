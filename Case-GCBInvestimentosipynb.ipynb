{
 "cells": [
  {
   "cell_type": "markdown",
   "metadata": {},
   "source": [
    "# Case Web Motors"
   ]
  },
  {
   "cell_type": "markdown",
   "metadata": {},
   "source": [
    "### Contexto:\n",
    "* A Webmotors dispõe de diversos produtos digitais para solucionar problemas durante a compra, utilização e venda de um veículo, sendo um de seus principais e mais conhecidos o classificado. Para o classificado utilizamos o lead model para monetizar nosso produto. Um lead é uma demonstração de interesse de um comprador para um vendedor."
   ]
  },
  {
   "cell_type": "markdown",
   "metadata": {},
   "source": [
    "### Definições:\n",
    "> Lead: Demonstração de interesse de um comprador por um produto de algum vendedor  \n",
    ">Dados: 0 -> Não; 1 -> Sim"
   ]
  },
  {
   "cell_type": "markdown",
   "metadata": {},
   "source": [
    "### Tarefa:\n",
    "* Determine ao menos uma alternativa para potencializar o recebimento de leads dos anúncios."
   ]
  },
  {
   "cell_type": "markdown",
   "metadata": {},
   "source": [
    "### Parte1: \n",
    "Exploração dos Dados buscando a correlação dos leads com as outras variáveis"
   ]
  },
  {
   "cell_type": "markdown",
   "metadata": {},
   "source": [
    "### Parte 2:\n",
    "Desenvolver um modelo para de determinar se um anúncio receberá lead.  \n",
    "Que outras informações, as quais você não teve acesso, poderiam ajudar a chegar a conclusões melhores?"
   ]
  },
  {
   "cell_type": "markdown",
   "metadata": {},
   "source": [
    "### Parte 3 (Bônus!!!)\n",
    "Proponha um modelo para determinar a quantidade de leads que um anúncio irá receber"
   ]
  },
  {
   "cell_type": "code",
   "execution_count": 1,
   "metadata": {},
   "outputs": [],
   "source": [
    "import os\n",
    "import pandas as pd\n",
    "import numpy as np\n",
    "import matplotlib.pyplot as plt\n",
    "import seaborn as sns\n",
    "from scipy import stats\n",
    "import warnings\n",
    "warnings.filterwarnings(\"ignore\")\n",
    "\n",
    "\n",
    "pd.set_option('max_columns', None)"
   ]
  },
  {
   "cell_type": "code",
   "execution_count": 2,
   "metadata": {},
   "outputs": [
    {
     "name": "stdout",
     "output_type": "stream",
     "text": [
      "c:\\FCD\\Case-GCBInvestimentos\n"
     ]
    }
   ],
   "source": [
    "print(os.getcwd())"
   ]
  },
  {
   "cell_type": "code",
   "execution_count": 3,
   "metadata": {},
   "outputs": [
    {
     "data": {
      "text/html": [
       "<div>\n",
       "<style scoped>\n",
       "    .dataframe tbody tr th:only-of-type {\n",
       "        vertical-align: middle;\n",
       "    }\n",
       "\n",
       "    .dataframe tbody tr th {\n",
       "        vertical-align: top;\n",
       "    }\n",
       "\n",
       "    .dataframe thead th {\n",
       "        text-align: right;\n",
       "    }\n",
       "</style>\n",
       "<table border=\"1\" class=\"dataframe\">\n",
       "  <thead>\n",
       "    <tr style=\"text-align: right;\">\n",
       "      <th></th>\n",
       "      <th>attribute</th>\n",
       "      <th>description</th>\n",
       "    </tr>\n",
       "  </thead>\n",
       "  <tbody>\n",
       "    <tr>\n",
       "      <th>0</th>\n",
       "      <td>cod_anuncio</td>\n",
       "      <td>código do anúncio</td>\n",
       "    </tr>\n",
       "    <tr>\n",
       "      <th>1</th>\n",
       "      <td>cod_cliente</td>\n",
       "      <td>código do anunciante</td>\n",
       "    </tr>\n",
       "    <tr>\n",
       "      <th>2</th>\n",
       "      <td>cod_tipo_pessoa</td>\n",
       "      <td>tipo de anunciante: PF=1, PJ=2</td>\n",
       "    </tr>\n",
       "    <tr>\n",
       "      <th>3</th>\n",
       "      <td>prioridade</td>\n",
       "      <td>prioridade do anúncio (1=alta, 2-média, 3-baixa)</td>\n",
       "    </tr>\n",
       "    <tr>\n",
       "      <th>4</th>\n",
       "      <td>leads</td>\n",
       "      <td>tota de propostas recebidas</td>\n",
       "    </tr>\n",
       "    <tr>\n",
       "      <th>5</th>\n",
       "      <td>views</td>\n",
       "      <td>quantidade de visualizações no anúncio</td>\n",
       "    </tr>\n",
       "    <tr>\n",
       "      <th>6</th>\n",
       "      <td>cliques_telefone</td>\n",
       "      <td>quantidade de cliques no telefone anunciado</td>\n",
       "    </tr>\n",
       "    <tr>\n",
       "      <th>7</th>\n",
       "      <td>cod_marca_veiculo</td>\n",
       "      <td>código da marca do veículo</td>\n",
       "    </tr>\n",
       "    <tr>\n",
       "      <th>8</th>\n",
       "      <td>cod_modelo_veiculo</td>\n",
       "      <td>código do modelo veículo</td>\n",
       "    </tr>\n",
       "    <tr>\n",
       "      <th>9</th>\n",
       "      <td>cod_versao_veiculo</td>\n",
       "      <td>código da versão do veículo</td>\n",
       "    </tr>\n",
       "    <tr>\n",
       "      <th>10</th>\n",
       "      <td>ano_modelo</td>\n",
       "      <td>ano-modelo do veículo</td>\n",
       "    </tr>\n",
       "    <tr>\n",
       "      <th>11</th>\n",
       "      <td>cep_2dig</td>\n",
       "      <td>dois primeiros dígitos do cep do anunciante</td>\n",
       "    </tr>\n",
       "    <tr>\n",
       "      <th>12</th>\n",
       "      <td>uf_cidade</td>\n",
       "      <td>UF e cidade do anunciante</td>\n",
       "    </tr>\n",
       "    <tr>\n",
       "      <th>13</th>\n",
       "      <td>vlr_anuncio</td>\n",
       "      <td>valor do veículo no anúncio</td>\n",
       "    </tr>\n",
       "    <tr>\n",
       "      <th>14</th>\n",
       "      <td>qtd_fotos</td>\n",
       "      <td>quantidade de fotos no anúncio</td>\n",
       "    </tr>\n",
       "    <tr>\n",
       "      <th>15</th>\n",
       "      <td>km_veiculo</td>\n",
       "      <td>Kilometragem do veículo</td>\n",
       "    </tr>\n",
       "    <tr>\n",
       "      <th>16</th>\n",
       "      <td>vlr_mercado</td>\n",
       "      <td>valor de referência do veículo na praça</td>\n",
       "    </tr>\n",
       "    <tr>\n",
       "      <th>17</th>\n",
       "      <td>flg_unico_dono</td>\n",
       "      <td>indicador de único dono</td>\n",
       "    </tr>\n",
       "    <tr>\n",
       "      <th>18</th>\n",
       "      <td>flg_licenciado</td>\n",
       "      <td>indicador de licenciamento em dia</td>\n",
       "    </tr>\n",
       "    <tr>\n",
       "      <th>19</th>\n",
       "      <td>flg_ipva_pago</td>\n",
       "      <td>indicador de IPVA em dia</td>\n",
       "    </tr>\n",
       "    <tr>\n",
       "      <th>20</th>\n",
       "      <td>flg_todas_revisoes_concessionaria</td>\n",
       "      <td>indicador realização de todas as revisões na c...</td>\n",
       "    </tr>\n",
       "    <tr>\n",
       "      <th>21</th>\n",
       "      <td>flg_todas_revisoes_agenda_veiculo</td>\n",
       "      <td>indicador realização de todas as revisões prev...</td>\n",
       "    </tr>\n",
       "    <tr>\n",
       "      <th>22</th>\n",
       "      <td>flg_garantia_fabrica</td>\n",
       "      <td>indicador de veículo em garantia de fábrica</td>\n",
       "    </tr>\n",
       "    <tr>\n",
       "      <th>23</th>\n",
       "      <td>flg_blindado</td>\n",
       "      <td>indicador de blindagem</td>\n",
       "    </tr>\n",
       "    <tr>\n",
       "      <th>24</th>\n",
       "      <td>flg_aceita_troca</td>\n",
       "      <td>indicador de que o anunciante aceita troca</td>\n",
       "    </tr>\n",
       "    <tr>\n",
       "      <th>25</th>\n",
       "      <td>flg_adaptado_pcd</td>\n",
       "      <td>indicador de veículo adaptado para pessoa com ...</td>\n",
       "    </tr>\n",
       "    <tr>\n",
       "      <th>26</th>\n",
       "      <td>combustivel</td>\n",
       "      <td>especificação de combustível</td>\n",
       "    </tr>\n",
       "    <tr>\n",
       "      <th>27</th>\n",
       "      <td>cambio</td>\n",
       "      <td>especificação de câmbio</td>\n",
       "    </tr>\n",
       "    <tr>\n",
       "      <th>28</th>\n",
       "      <td>portas</td>\n",
       "      <td>número de portas</td>\n",
       "    </tr>\n",
       "    <tr>\n",
       "      <th>29</th>\n",
       "      <td>alarme</td>\n",
       "      <td>presença de alarme</td>\n",
       "    </tr>\n",
       "    <tr>\n",
       "      <th>30</th>\n",
       "      <td>airbag</td>\n",
       "      <td>presença de airbag</td>\n",
       "    </tr>\n",
       "    <tr>\n",
       "      <th>31</th>\n",
       "      <td>arquente</td>\n",
       "      <td>presença de ar quente</td>\n",
       "    </tr>\n",
       "    <tr>\n",
       "      <th>32</th>\n",
       "      <td>bancocouro</td>\n",
       "      <td>presença de banco de couro</td>\n",
       "    </tr>\n",
       "    <tr>\n",
       "      <th>33</th>\n",
       "      <td>arcondic</td>\n",
       "      <td>presença de ar condicionado</td>\n",
       "    </tr>\n",
       "    <tr>\n",
       "      <th>34</th>\n",
       "      <td>abs</td>\n",
       "      <td>presença de freio abs</td>\n",
       "    </tr>\n",
       "    <tr>\n",
       "      <th>35</th>\n",
       "      <td>desembtras</td>\n",
       "      <td>presença de desembaçador traseiro</td>\n",
       "    </tr>\n",
       "    <tr>\n",
       "      <th>36</th>\n",
       "      <td>travaeletr</td>\n",
       "      <td>presença de travas elétricas</td>\n",
       "    </tr>\n",
       "    <tr>\n",
       "      <th>37</th>\n",
       "      <td>vidroseletr</td>\n",
       "      <td>presença de vidros elétricos</td>\n",
       "    </tr>\n",
       "    <tr>\n",
       "      <th>38</th>\n",
       "      <td>rodasliga</td>\n",
       "      <td>presença de rodas de liga-leve</td>\n",
       "    </tr>\n",
       "    <tr>\n",
       "      <th>39</th>\n",
       "      <td>sensorchuva</td>\n",
       "      <td>presença de sensor de chuva</td>\n",
       "    </tr>\n",
       "    <tr>\n",
       "      <th>40</th>\n",
       "      <td>sensorestacion</td>\n",
       "      <td>presença de sensor de estacionamento</td>\n",
       "    </tr>\n",
       "  </tbody>\n",
       "</table>\n",
       "</div>"
      ],
      "text/plain": [
       "                            attribute  \\\n",
       "0                         cod_anuncio   \n",
       "1                         cod_cliente   \n",
       "2                     cod_tipo_pessoa   \n",
       "3                          prioridade   \n",
       "4                               leads   \n",
       "5                               views   \n",
       "6                    cliques_telefone   \n",
       "7                   cod_marca_veiculo   \n",
       "8                  cod_modelo_veiculo   \n",
       "9                  cod_versao_veiculo   \n",
       "10                         ano_modelo   \n",
       "11                           cep_2dig   \n",
       "12                          uf_cidade   \n",
       "13                        vlr_anuncio   \n",
       "14                          qtd_fotos   \n",
       "15                         km_veiculo   \n",
       "16                        vlr_mercado   \n",
       "17                     flg_unico_dono   \n",
       "18                     flg_licenciado   \n",
       "19                      flg_ipva_pago   \n",
       "20  flg_todas_revisoes_concessionaria   \n",
       "21  flg_todas_revisoes_agenda_veiculo   \n",
       "22               flg_garantia_fabrica   \n",
       "23                       flg_blindado   \n",
       "24                   flg_aceita_troca   \n",
       "25                   flg_adaptado_pcd   \n",
       "26                        combustivel   \n",
       "27                             cambio   \n",
       "28                             portas   \n",
       "29                             alarme   \n",
       "30                             airbag   \n",
       "31                           arquente   \n",
       "32                         bancocouro   \n",
       "33                           arcondic   \n",
       "34                                abs   \n",
       "35                         desembtras   \n",
       "36                         travaeletr   \n",
       "37                        vidroseletr   \n",
       "38                          rodasliga   \n",
       "39                        sensorchuva   \n",
       "40                     sensorestacion   \n",
       "\n",
       "                                          description  \n",
       "0                                   código do anúncio  \n",
       "1                                código do anunciante  \n",
       "2                      tipo de anunciante: PF=1, PJ=2  \n",
       "3    prioridade do anúncio (1=alta, 2-média, 3-baixa)  \n",
       "4                         tota de propostas recebidas  \n",
       "5              quantidade de visualizações no anúncio  \n",
       "6         quantidade de cliques no telefone anunciado  \n",
       "7                          código da marca do veículo  \n",
       "8                            código do modelo veículo  \n",
       "9                         código da versão do veículo  \n",
       "10                              ano-modelo do veículo  \n",
       "11        dois primeiros dígitos do cep do anunciante  \n",
       "12                          UF e cidade do anunciante  \n",
       "13                        valor do veículo no anúncio  \n",
       "14                     quantidade de fotos no anúncio  \n",
       "15                            Kilometragem do veículo  \n",
       "16            valor de referência do veículo na praça  \n",
       "17                            indicador de único dono  \n",
       "18                  indicador de licenciamento em dia  \n",
       "19                           indicador de IPVA em dia  \n",
       "20  indicador realização de todas as revisões na c...  \n",
       "21  indicador realização de todas as revisões prev...  \n",
       "22        indicador de veículo em garantia de fábrica  \n",
       "23                             indicador de blindagem  \n",
       "24         indicador de que o anunciante aceita troca  \n",
       "25  indicador de veículo adaptado para pessoa com ...  \n",
       "26                       especificação de combustível  \n",
       "27                            especificação de câmbio  \n",
       "28                                   número de portas  \n",
       "29                                 presença de alarme  \n",
       "30                                 presença de airbag  \n",
       "31                              presença de ar quente  \n",
       "32                         presença de banco de couro  \n",
       "33                        presença de ar condicionado  \n",
       "34                              presença de freio abs  \n",
       "35                  presença de desembaçador traseiro  \n",
       "36                       presença de travas elétricas  \n",
       "37                       presença de vidros elétricos  \n",
       "38                     presença de rodas de liga-leve  \n",
       "39                        presença de sensor de chuva  \n",
       "40               presença de sensor de estacionamento  "
      ]
     },
     "execution_count": 3,
     "metadata": {},
     "output_type": "execute_result"
    }
   ],
   "source": [
    "# Dicionária do que significa as colunas no dataset\n",
    "dicionario = pd.read_csv('Case 1 - dicionario.csv')\n",
    "dicionario"
   ]
  },
  {
   "cell_type": "code",
   "execution_count": 4,
   "metadata": {},
   "outputs": [
    {
     "data": {
      "text/html": [
       "<div>\n",
       "<style scoped>\n",
       "    .dataframe tbody tr th:only-of-type {\n",
       "        vertical-align: middle;\n",
       "    }\n",
       "\n",
       "    .dataframe tbody tr th {\n",
       "        vertical-align: top;\n",
       "    }\n",
       "\n",
       "    .dataframe thead th {\n",
       "        text-align: right;\n",
       "    }\n",
       "</style>\n",
       "<table border=\"1\" class=\"dataframe\">\n",
       "  <thead>\n",
       "    <tr style=\"text-align: right;\">\n",
       "      <th></th>\n",
       "      <th>cod_anuncio</th>\n",
       "      <th>cod_cliente</th>\n",
       "      <th>cod_tipo_pessoa</th>\n",
       "      <th>prioridade</th>\n",
       "      <th>leads</th>\n",
       "      <th>views</th>\n",
       "      <th>cliques_telefone*</th>\n",
       "      <th>cod_marca_veiculo</th>\n",
       "      <th>cod_modelo_veiculo</th>\n",
       "      <th>cod_versao_veiculo</th>\n",
       "      <th>ano_modelo</th>\n",
       "      <th>cep_2dig</th>\n",
       "      <th>uf_cidade</th>\n",
       "      <th>vlr_anuncio</th>\n",
       "      <th>qtd_fotos</th>\n",
       "      <th>km_veiculo</th>\n",
       "      <th>vlr_mercado</th>\n",
       "      <th>flg_unico_dono</th>\n",
       "      <th>flg_licenciado</th>\n",
       "      <th>flg_ipva_pago</th>\n",
       "      <th>flg_todas_revisoes_concessionaria</th>\n",
       "      <th>flg_todas_revisoes_agenda_veiculo</th>\n",
       "      <th>flg_garantia_fabrica</th>\n",
       "      <th>flg_blindado</th>\n",
       "      <th>flg_aceita_troca</th>\n",
       "      <th>flg_adaptado_pcd</th>\n",
       "      <th>combustivel</th>\n",
       "      <th>cambio</th>\n",
       "      <th>portas</th>\n",
       "      <th>alarme</th>\n",
       "      <th>airbag</th>\n",
       "      <th>arquente</th>\n",
       "      <th>bancocouro</th>\n",
       "      <th>arcondic</th>\n",
       "      <th>abs</th>\n",
       "      <th>desembtras</th>\n",
       "      <th>travaeletr</th>\n",
       "      <th>vidroseletr</th>\n",
       "      <th>rodasliga</th>\n",
       "      <th>sensorchuva</th>\n",
       "      <th>sensorestacion</th>\n",
       "    </tr>\n",
       "  </thead>\n",
       "  <tbody>\n",
       "    <tr>\n",
       "      <th>0</th>\n",
       "      <td>2</td>\n",
       "      <td>7941</td>\n",
       "      <td>2</td>\n",
       "      <td>3</td>\n",
       "      <td>1</td>\n",
       "      <td>0</td>\n",
       "      <td>0</td>\n",
       "      <td>34</td>\n",
       "      <td>769</td>\n",
       "      <td>346932</td>\n",
       "      <td>2018</td>\n",
       "      <td>75</td>\n",
       "      <td>GO_Itumbiara</td>\n",
       "      <td>110990.0</td>\n",
       "      <td>7</td>\n",
       "      <td>0</td>\n",
       "      <td>NaN</td>\n",
       "      <td>0</td>\n",
       "      <td>0</td>\n",
       "      <td>0.0</td>\n",
       "      <td>0.0</td>\n",
       "      <td>0</td>\n",
       "      <td>0.0</td>\n",
       "      <td>0</td>\n",
       "      <td>0</td>\n",
       "      <td>0.0</td>\n",
       "      <td>NaN</td>\n",
       "      <td>NaN</td>\n",
       "      <td>NaN</td>\n",
       "      <td>NaN</td>\n",
       "      <td>NaN</td>\n",
       "      <td>NaN</td>\n",
       "      <td>NaN</td>\n",
       "      <td>NaN</td>\n",
       "      <td>NaN</td>\n",
       "      <td>NaN</td>\n",
       "      <td>NaN</td>\n",
       "      <td>NaN</td>\n",
       "      <td>NaN</td>\n",
       "      <td>NaN</td>\n",
       "      <td>NaN</td>\n",
       "    </tr>\n",
       "    <tr>\n",
       "      <th>1</th>\n",
       "      <td>6</td>\n",
       "      <td>1770</td>\n",
       "      <td>1</td>\n",
       "      <td>3</td>\n",
       "      <td>1</td>\n",
       "      <td>0</td>\n",
       "      <td>4</td>\n",
       "      <td>2</td>\n",
       "      <td>704</td>\n",
       "      <td>340148</td>\n",
       "      <td>1996</td>\n",
       "      <td>6</td>\n",
       "      <td>SP_Osasco</td>\n",
       "      <td>8300.0</td>\n",
       "      <td>0</td>\n",
       "      <td>689815</td>\n",
       "      <td>NaN</td>\n",
       "      <td>0</td>\n",
       "      <td>0</td>\n",
       "      <td>0.0</td>\n",
       "      <td>0.0</td>\n",
       "      <td>0</td>\n",
       "      <td>0.0</td>\n",
       "      <td>0</td>\n",
       "      <td>0</td>\n",
       "      <td>0.0</td>\n",
       "      <td>alcool</td>\n",
       "      <td>manual</td>\n",
       "      <td>2.0</td>\n",
       "      <td>S</td>\n",
       "      <td>NaN</td>\n",
       "      <td>S</td>\n",
       "      <td>N</td>\n",
       "      <td>N</td>\n",
       "      <td>S</td>\n",
       "      <td>N</td>\n",
       "      <td>S</td>\n",
       "      <td>S</td>\n",
       "      <td>N</td>\n",
       "      <td>N</td>\n",
       "      <td>N</td>\n",
       "    </tr>\n",
       "    <tr>\n",
       "      <th>2</th>\n",
       "      <td>8</td>\n",
       "      <td>709</td>\n",
       "      <td>1</td>\n",
       "      <td>3</td>\n",
       "      <td>4</td>\n",
       "      <td>0</td>\n",
       "      <td>11</td>\n",
       "      <td>30</td>\n",
       "      <td>1071</td>\n",
       "      <td>310713</td>\n",
       "      <td>2002</td>\n",
       "      <td>2</td>\n",
       "      <td>SP_SÃ£o Paulo</td>\n",
       "      <td>38800.0</td>\n",
       "      <td>4</td>\n",
       "      <td>33700</td>\n",
       "      <td>NaN</td>\n",
       "      <td>0</td>\n",
       "      <td>0</td>\n",
       "      <td>0.0</td>\n",
       "      <td>0.0</td>\n",
       "      <td>0</td>\n",
       "      <td>0.0</td>\n",
       "      <td>0</td>\n",
       "      <td>0</td>\n",
       "      <td>0.0</td>\n",
       "      <td>gasolina</td>\n",
       "      <td>manual</td>\n",
       "      <td>4.0</td>\n",
       "      <td>S</td>\n",
       "      <td>NaN</td>\n",
       "      <td>S</td>\n",
       "      <td>N</td>\n",
       "      <td>S</td>\n",
       "      <td>S</td>\n",
       "      <td>S</td>\n",
       "      <td>S</td>\n",
       "      <td>S</td>\n",
       "      <td>S</td>\n",
       "      <td>N</td>\n",
       "      <td>N</td>\n",
       "    </tr>\n",
       "    <tr>\n",
       "      <th>3</th>\n",
       "      <td>13</td>\n",
       "      <td>9708</td>\n",
       "      <td>1</td>\n",
       "      <td>2</td>\n",
       "      <td>12</td>\n",
       "      <td>0</td>\n",
       "      <td>14</td>\n",
       "      <td>10</td>\n",
       "      <td>2028</td>\n",
       "      <td>341195</td>\n",
       "      <td>1995</td>\n",
       "      <td>4</td>\n",
       "      <td>SP_SÃ£o Paulo</td>\n",
       "      <td>44000.0</td>\n",
       "      <td>8</td>\n",
       "      <td>105000</td>\n",
       "      <td>NaN</td>\n",
       "      <td>0</td>\n",
       "      <td>1</td>\n",
       "      <td>1.0</td>\n",
       "      <td>0.0</td>\n",
       "      <td>0</td>\n",
       "      <td>0.0</td>\n",
       "      <td>0</td>\n",
       "      <td>0</td>\n",
       "      <td>0.0</td>\n",
       "      <td>gasolina</td>\n",
       "      <td>automatico</td>\n",
       "      <td>2.0</td>\n",
       "      <td>N</td>\n",
       "      <td>S</td>\n",
       "      <td>S</td>\n",
       "      <td>S</td>\n",
       "      <td>S</td>\n",
       "      <td>N</td>\n",
       "      <td>N</td>\n",
       "      <td>S</td>\n",
       "      <td>S</td>\n",
       "      <td>S</td>\n",
       "      <td>N</td>\n",
       "      <td>N</td>\n",
       "    </tr>\n",
       "    <tr>\n",
       "      <th>4</th>\n",
       "      <td>15</td>\n",
       "      <td>1363</td>\n",
       "      <td>1</td>\n",
       "      <td>2</td>\n",
       "      <td>8</td>\n",
       "      <td>0</td>\n",
       "      <td>11</td>\n",
       "      <td>12</td>\n",
       "      <td>805</td>\n",
       "      <td>332063</td>\n",
       "      <td>1995</td>\n",
       "      <td>5</td>\n",
       "      <td>SP_SÃ£o Paulo</td>\n",
       "      <td>30000.0</td>\n",
       "      <td>6</td>\n",
       "      <td>71240</td>\n",
       "      <td>NaN</td>\n",
       "      <td>0</td>\n",
       "      <td>0</td>\n",
       "      <td>0.0</td>\n",
       "      <td>0.0</td>\n",
       "      <td>0</td>\n",
       "      <td>0.0</td>\n",
       "      <td>0</td>\n",
       "      <td>0</td>\n",
       "      <td>0.0</td>\n",
       "      <td>gasolina</td>\n",
       "      <td>automatico</td>\n",
       "      <td>4.0</td>\n",
       "      <td>S</td>\n",
       "      <td>N</td>\n",
       "      <td>S</td>\n",
       "      <td>S</td>\n",
       "      <td>S</td>\n",
       "      <td>S</td>\n",
       "      <td>S</td>\n",
       "      <td>S</td>\n",
       "      <td>S</td>\n",
       "      <td>S</td>\n",
       "      <td>N</td>\n",
       "      <td>N</td>\n",
       "    </tr>\n",
       "  </tbody>\n",
       "</table>\n",
       "</div>"
      ],
      "text/plain": [
       "   cod_anuncio  cod_cliente  cod_tipo_pessoa  prioridade  leads  views  \\\n",
       "0            2         7941                2           3      1      0   \n",
       "1            6         1770                1           3      1      0   \n",
       "2            8          709                1           3      4      0   \n",
       "3           13         9708                1           2     12      0   \n",
       "4           15         1363                1           2      8      0   \n",
       "\n",
       "   cliques_telefone*  cod_marca_veiculo  cod_modelo_veiculo  \\\n",
       "0                  0                 34                 769   \n",
       "1                  4                  2                 704   \n",
       "2                 11                 30                1071   \n",
       "3                 14                 10                2028   \n",
       "4                 11                 12                 805   \n",
       "\n",
       "   cod_versao_veiculo  ano_modelo  cep_2dig      uf_cidade  vlr_anuncio  \\\n",
       "0              346932        2018        75   GO_Itumbiara     110990.0   \n",
       "1              340148        1996         6      SP_Osasco       8300.0   \n",
       "2              310713        2002         2  SP_SÃ£o Paulo      38800.0   \n",
       "3              341195        1995         4  SP_SÃ£o Paulo      44000.0   \n",
       "4              332063        1995         5  SP_SÃ£o Paulo      30000.0   \n",
       "\n",
       "   qtd_fotos  km_veiculo  vlr_mercado  flg_unico_dono  flg_licenciado  \\\n",
       "0          7           0          NaN               0               0   \n",
       "1          0      689815          NaN               0               0   \n",
       "2          4       33700          NaN               0               0   \n",
       "3          8      105000          NaN               0               1   \n",
       "4          6       71240          NaN               0               0   \n",
       "\n",
       "   flg_ipva_pago  flg_todas_revisoes_concessionaria  \\\n",
       "0            0.0                                0.0   \n",
       "1            0.0                                0.0   \n",
       "2            0.0                                0.0   \n",
       "3            1.0                                0.0   \n",
       "4            0.0                                0.0   \n",
       "\n",
       "   flg_todas_revisoes_agenda_veiculo  flg_garantia_fabrica  flg_blindado  \\\n",
       "0                                  0                   0.0             0   \n",
       "1                                  0                   0.0             0   \n",
       "2                                  0                   0.0             0   \n",
       "3                                  0                   0.0             0   \n",
       "4                                  0                   0.0             0   \n",
       "\n",
       "   flg_aceita_troca  flg_adaptado_pcd combustivel      cambio  portas alarme  \\\n",
       "0                 0               0.0         NaN         NaN     NaN    NaN   \n",
       "1                 0               0.0      alcool      manual     2.0      S   \n",
       "2                 0               0.0    gasolina      manual     4.0      S   \n",
       "3                 0               0.0    gasolina  automatico     2.0      N   \n",
       "4                 0               0.0    gasolina  automatico     4.0      S   \n",
       "\n",
       "  airbag arquente bancocouro arcondic  abs desembtras travaeletr vidroseletr  \\\n",
       "0    NaN      NaN        NaN      NaN  NaN        NaN        NaN         NaN   \n",
       "1    NaN        S          N        N    S          N          S           S   \n",
       "2    NaN        S          N        S    S          S          S           S   \n",
       "3      S        S          S        S    N          N          S           S   \n",
       "4      N        S          S        S    S          S          S           S   \n",
       "\n",
       "  rodasliga sensorchuva sensorestacion  \n",
       "0       NaN         NaN            NaN  \n",
       "1         N           N              N  \n",
       "2         S           N              N  \n",
       "3         S           N              N  \n",
       "4         S           N              N  "
      ]
     },
     "execution_count": 4,
     "metadata": {},
     "output_type": "execute_result"
    }
   ],
   "source": [
    "df = pd.read_csv('Case 1 - dados.csv')\n",
    "df.head()"
   ]
  },
  {
   "cell_type": "markdown",
   "metadata": {},
   "source": [
    "# Limpeza e Tratamento de Dados"
   ]
  },
  {
   "cell_type": "code",
   "execution_count": 5,
   "metadata": {},
   "outputs": [
    {
     "data": {
      "text/plain": [
       "(48665, 41)"
      ]
     },
     "execution_count": 5,
     "metadata": {},
     "output_type": "execute_result"
    }
   ],
   "source": [
    "# Temos 48665 registros e 41 colunas\n",
    "df.shape"
   ]
  },
  {
   "cell_type": "code",
   "execution_count": 6,
   "metadata": {},
   "outputs": [
    {
     "name": "stdout",
     "output_type": "stream",
     "text": [
      "<class 'pandas.core.frame.DataFrame'>\n",
      "RangeIndex: 48665 entries, 0 to 48664\n",
      "Data columns (total 41 columns):\n",
      " #   Column                             Non-Null Count  Dtype  \n",
      "---  ------                             --------------  -----  \n",
      " 0   cod_anuncio                        48665 non-null  int64  \n",
      " 1   cod_cliente                        48665 non-null  int64  \n",
      " 2   cod_tipo_pessoa                    48665 non-null  int64  \n",
      " 3   prioridade                         48665 non-null  int64  \n",
      " 4   leads                              48665 non-null  int64  \n",
      " 5   views                              48665 non-null  int64  \n",
      " 6   cliques_telefone*                  48665 non-null  int64  \n",
      " 7   cod_marca_veiculo                  48665 non-null  int64  \n",
      " 8   cod_modelo_veiculo                 48665 non-null  int64  \n",
      " 9   cod_versao_veiculo                 48665 non-null  int64  \n",
      " 10  ano_modelo                         48665 non-null  int64  \n",
      " 11  cep_2dig                           48665 non-null  int64  \n",
      " 12  uf_cidade                          48665 non-null  object \n",
      " 13  vlr_anuncio                        48665 non-null  float64\n",
      " 14  qtd_fotos                          48665 non-null  int64  \n",
      " 15  km_veiculo                         48665 non-null  int64  \n",
      " 16  vlr_mercado                        42448 non-null  float64\n",
      " 17  flg_unico_dono                     48665 non-null  int64  \n",
      " 18  flg_licenciado                     48665 non-null  int64  \n",
      " 19  flg_ipva_pago                      48353 non-null  float64\n",
      " 20  flg_todas_revisoes_concessionaria  48353 non-null  float64\n",
      " 21  flg_todas_revisoes_agenda_veiculo  48665 non-null  int64  \n",
      " 22  flg_garantia_fabrica               48353 non-null  float64\n",
      " 23  flg_blindado                       48665 non-null  int64  \n",
      " 24  flg_aceita_troca                   48665 non-null  int64  \n",
      " 25  flg_adaptado_pcd                   48353 non-null  float64\n",
      " 26  combustivel                        48664 non-null  object \n",
      " 27  cambio                             48664 non-null  object \n",
      " 28  portas                             48664 non-null  float64\n",
      " 29  alarme                             48664 non-null  object \n",
      " 30  airbag                             48657 non-null  object \n",
      " 31  arquente                           48664 non-null  object \n",
      " 32  bancocouro                         48664 non-null  object \n",
      " 33  arcondic                           48664 non-null  object \n",
      " 34  abs                                48664 non-null  object \n",
      " 35  desembtras                         48664 non-null  object \n",
      " 36  travaeletr                         48664 non-null  object \n",
      " 37  vidroseletr                        48664 non-null  object \n",
      " 38  rodasliga                          48664 non-null  object \n",
      " 39  sensorchuva                        48664 non-null  object \n",
      " 40  sensorestacion                     48664 non-null  object \n",
      "dtypes: float64(7), int64(19), object(15)\n",
      "memory usage: 15.2+ MB\n"
     ]
    }
   ],
   "source": [
    "df.info()"
   ]
  },
  {
   "cell_type": "code",
   "execution_count": 7,
   "metadata": {},
   "outputs": [
    {
     "data": {
      "text/plain": [
       "int64      19\n",
       "object     15\n",
       "float64     7\n",
       "dtype: int64"
      ]
     },
     "execution_count": 7,
     "metadata": {},
     "output_type": "execute_result"
    }
   ],
   "source": [
    "df.dtypes.value_counts()"
   ]
  },
  {
   "cell_type": "markdown",
   "metadata": {},
   "source": [
    "### Valores NA"
   ]
  },
  {
   "cell_type": "code",
   "execution_count": 8,
   "metadata": {},
   "outputs": [
    {
     "data": {
      "text/plain": [
       "cod_anuncio                             0\n",
       "cod_cliente                             0\n",
       "cod_tipo_pessoa                         0\n",
       "prioridade                              0\n",
       "leads                                   0\n",
       "views                                   0\n",
       "cliques_telefone*                       0\n",
       "cod_marca_veiculo                       0\n",
       "cod_modelo_veiculo                      0\n",
       "cod_versao_veiculo                      0\n",
       "ano_modelo                              0\n",
       "cep_2dig                                0\n",
       "uf_cidade                               0\n",
       "vlr_anuncio                             0\n",
       "qtd_fotos                               0\n",
       "km_veiculo                              0\n",
       "vlr_mercado                          6217\n",
       "flg_unico_dono                          0\n",
       "flg_licenciado                          0\n",
       "flg_ipva_pago                         312\n",
       "flg_todas_revisoes_concessionaria     312\n",
       "flg_todas_revisoes_agenda_veiculo       0\n",
       "flg_garantia_fabrica                  312\n",
       "flg_blindado                            0\n",
       "flg_aceita_troca                        0\n",
       "flg_adaptado_pcd                      312\n",
       "combustivel                             1\n",
       "cambio                                  1\n",
       "portas                                  1\n",
       "alarme                                  1\n",
       "airbag                                  8\n",
       "arquente                                1\n",
       "bancocouro                              1\n",
       "arcondic                                1\n",
       "abs                                     1\n",
       "desembtras                              1\n",
       "travaeletr                              1\n",
       "vidroseletr                             1\n",
       "rodasliga                               1\n",
       "sensorchuva                             1\n",
       "sensorestacion                          1\n",
       "dtype: int64"
      ]
     },
     "execution_count": 8,
     "metadata": {},
     "output_type": "execute_result"
    }
   ],
   "source": [
    "# Verificação de valores missing\n",
    "df.isna().sum()"
   ]
  },
  {
   "cell_type": "code",
   "execution_count": 9,
   "metadata": {},
   "outputs": [],
   "source": [
    "# Vamos remover registros que tenham os valores missings\n",
    "df = df.dropna(axis = 0).reset_index(drop = True)"
   ]
  },
  {
   "cell_type": "code",
   "execution_count": 10,
   "metadata": {},
   "outputs": [
    {
     "data": {
      "text/plain": [
       "(42157, 41)"
      ]
     },
     "execution_count": 10,
     "metadata": {},
     "output_type": "execute_result"
    }
   ],
   "source": [
    "df.shape"
   ]
  },
  {
   "cell_type": "code",
   "execution_count": 11,
   "metadata": {},
   "outputs": [
    {
     "data": {
      "text/plain": [
       "0"
      ]
     },
     "execution_count": 11,
     "metadata": {},
     "output_type": "execute_result"
    }
   ],
   "source": [
    "df.isna().any().sum()"
   ]
  },
  {
   "cell_type": "code",
   "execution_count": 12,
   "metadata": {},
   "outputs": [
    {
     "data": {
      "text/plain": [
       "0.8662693927874242"
      ]
     },
     "execution_count": 12,
     "metadata": {},
     "output_type": "execute_result"
    }
   ],
   "source": [
    "# Ainda temos um data cerca de 87% do nosso dataset original\n",
    "len(df)/48665"
   ]
  },
  {
   "cell_type": "markdown",
   "metadata": {},
   "source": [
    "### Valores duplicados"
   ]
  },
  {
   "cell_type": "code",
   "execution_count": 13,
   "metadata": {},
   "outputs": [
    {
     "data": {
      "text/plain": [
       "0"
      ]
     },
     "execution_count": 13,
     "metadata": {},
     "output_type": "execute_result"
    }
   ],
   "source": [
    "# Verificação de valores duplicados\n",
    "df.duplicated().sum()"
   ]
  },
  {
   "cell_type": "markdown",
   "metadata": {},
   "source": [
    "* Não há valores duplicados"
   ]
  },
  {
   "cell_type": "markdown",
   "metadata": {},
   "source": [
    "### Valores Inconsistentes"
   ]
  },
  {
   "cell_type": "code",
   "execution_count": 14,
   "metadata": {},
   "outputs": [],
   "source": [
    "# Iremos remover registros onde o número de 'views' sejam menor que o número de 'leads'. Esta informação nãao faz sentido pois não é possível\n",
    "# ocorrer um lead sem anter ter um view do anúncio.\n",
    "# Temos diversos registros onde houve 0 'views' e um valor, as vezes até relativamente altos, de 'leads'.\n",
    "index_to_drop = df[(df.views < df.leads)].index"
   ]
  },
  {
   "cell_type": "code",
   "execution_count": 15,
   "metadata": {},
   "outputs": [],
   "source": [
    "df.drop(df.index[(index_to_drop)], inplace = True)"
   ]
  },
  {
   "cell_type": "code",
   "execution_count": 16,
   "metadata": {},
   "outputs": [
    {
     "data": {
      "text/plain": [
       "(41322, 41)"
      ]
     },
     "execution_count": 16,
     "metadata": {},
     "output_type": "execute_result"
    }
   ],
   "source": [
    "df.shape"
   ]
  },
  {
   "cell_type": "code",
   "execution_count": 17,
   "metadata": {},
   "outputs": [
    {
     "data": {
      "text/html": [
       "<div>\n",
       "<style scoped>\n",
       "    .dataframe tbody tr th:only-of-type {\n",
       "        vertical-align: middle;\n",
       "    }\n",
       "\n",
       "    .dataframe tbody tr th {\n",
       "        vertical-align: top;\n",
       "    }\n",
       "\n",
       "    .dataframe thead th {\n",
       "        text-align: right;\n",
       "    }\n",
       "</style>\n",
       "<table border=\"1\" class=\"dataframe\">\n",
       "  <thead>\n",
       "    <tr style=\"text-align: right;\">\n",
       "      <th></th>\n",
       "      <th>cod_anuncio</th>\n",
       "      <th>cod_cliente</th>\n",
       "      <th>cod_tipo_pessoa</th>\n",
       "      <th>prioridade</th>\n",
       "      <th>leads</th>\n",
       "      <th>views</th>\n",
       "      <th>cliques_telefone*</th>\n",
       "      <th>cod_marca_veiculo</th>\n",
       "      <th>cod_modelo_veiculo</th>\n",
       "      <th>cod_versao_veiculo</th>\n",
       "      <th>ano_modelo</th>\n",
       "      <th>cep_2dig</th>\n",
       "      <th>uf_cidade</th>\n",
       "      <th>vlr_anuncio</th>\n",
       "      <th>qtd_fotos</th>\n",
       "      <th>km_veiculo</th>\n",
       "      <th>vlr_mercado</th>\n",
       "      <th>flg_unico_dono</th>\n",
       "      <th>flg_licenciado</th>\n",
       "      <th>flg_ipva_pago</th>\n",
       "      <th>flg_todas_revisoes_concessionaria</th>\n",
       "      <th>flg_todas_revisoes_agenda_veiculo</th>\n",
       "      <th>flg_garantia_fabrica</th>\n",
       "      <th>flg_blindado</th>\n",
       "      <th>flg_aceita_troca</th>\n",
       "      <th>flg_adaptado_pcd</th>\n",
       "      <th>combustivel</th>\n",
       "      <th>cambio</th>\n",
       "      <th>portas</th>\n",
       "      <th>alarme</th>\n",
       "      <th>airbag</th>\n",
       "      <th>arquente</th>\n",
       "      <th>bancocouro</th>\n",
       "      <th>arcondic</th>\n",
       "      <th>abs</th>\n",
       "      <th>desembtras</th>\n",
       "      <th>travaeletr</th>\n",
       "      <th>vidroseletr</th>\n",
       "      <th>rodasliga</th>\n",
       "      <th>sensorchuva</th>\n",
       "      <th>sensorestacion</th>\n",
       "    </tr>\n",
       "  </thead>\n",
       "  <tbody>\n",
       "    <tr>\n",
       "      <th>2</th>\n",
       "      <td>95</td>\n",
       "      <td>16462</td>\n",
       "      <td>1</td>\n",
       "      <td>1</td>\n",
       "      <td>0</td>\n",
       "      <td>0</td>\n",
       "      <td>6</td>\n",
       "      <td>12</td>\n",
       "      <td>2722</td>\n",
       "      <td>342061</td>\n",
       "      <td>2010</td>\n",
       "      <td>8</td>\n",
       "      <td>SP_PoÃ¡</td>\n",
       "      <td>31900.0</td>\n",
       "      <td>8</td>\n",
       "      <td>74000</td>\n",
       "      <td>26875.00573</td>\n",
       "      <td>1</td>\n",
       "      <td>1</td>\n",
       "      <td>1.0</td>\n",
       "      <td>1.0</td>\n",
       "      <td>0</td>\n",
       "      <td>1.0</td>\n",
       "      <td>0</td>\n",
       "      <td>1</td>\n",
       "      <td>0.0</td>\n",
       "      <td>gasolina e alcool</td>\n",
       "      <td>automatico sequencial</td>\n",
       "      <td>4.0</td>\n",
       "      <td>S</td>\n",
       "      <td>S</td>\n",
       "      <td>S</td>\n",
       "      <td>S</td>\n",
       "      <td>S</td>\n",
       "      <td>S</td>\n",
       "      <td>S</td>\n",
       "      <td>S</td>\n",
       "      <td>S</td>\n",
       "      <td>S</td>\n",
       "      <td>S</td>\n",
       "      <td>S</td>\n",
       "    </tr>\n",
       "    <tr>\n",
       "      <th>3</th>\n",
       "      <td>110</td>\n",
       "      <td>1987</td>\n",
       "      <td>1</td>\n",
       "      <td>1</td>\n",
       "      <td>0</td>\n",
       "      <td>0</td>\n",
       "      <td>2</td>\n",
       "      <td>2</td>\n",
       "      <td>1161</td>\n",
       "      <td>339241</td>\n",
       "      <td>2009</td>\n",
       "      <td>1</td>\n",
       "      <td>SP_SÃ£o Paulo</td>\n",
       "      <td>25500.0</td>\n",
       "      <td>8</td>\n",
       "      <td>128000</td>\n",
       "      <td>23779.45322</td>\n",
       "      <td>0</td>\n",
       "      <td>1</td>\n",
       "      <td>1.0</td>\n",
       "      <td>0.0</td>\n",
       "      <td>0</td>\n",
       "      <td>0.0</td>\n",
       "      <td>0</td>\n",
       "      <td>1</td>\n",
       "      <td>0.0</td>\n",
       "      <td>gasolina e alcool</td>\n",
       "      <td>automatico</td>\n",
       "      <td>4.0</td>\n",
       "      <td>S</td>\n",
       "      <td>S</td>\n",
       "      <td>S</td>\n",
       "      <td>N</td>\n",
       "      <td>S</td>\n",
       "      <td>S</td>\n",
       "      <td>S</td>\n",
       "      <td>S</td>\n",
       "      <td>S</td>\n",
       "      <td>N</td>\n",
       "      <td>N</td>\n",
       "      <td>N</td>\n",
       "    </tr>\n",
       "    <tr>\n",
       "      <th>4</th>\n",
       "      <td>117</td>\n",
       "      <td>18367</td>\n",
       "      <td>1</td>\n",
       "      <td>1</td>\n",
       "      <td>0</td>\n",
       "      <td>0</td>\n",
       "      <td>10</td>\n",
       "      <td>3</td>\n",
       "      <td>687</td>\n",
       "      <td>344077</td>\n",
       "      <td>2010</td>\n",
       "      <td>9</td>\n",
       "      <td>SP_SÃ£o Bernardo do Campo</td>\n",
       "      <td>23990.0</td>\n",
       "      <td>6</td>\n",
       "      <td>60000</td>\n",
       "      <td>22428.12461</td>\n",
       "      <td>1</td>\n",
       "      <td>1</td>\n",
       "      <td>1.0</td>\n",
       "      <td>0.0</td>\n",
       "      <td>0</td>\n",
       "      <td>0.0</td>\n",
       "      <td>0</td>\n",
       "      <td>1</td>\n",
       "      <td>0.0</td>\n",
       "      <td>gasolina e alcool</td>\n",
       "      <td>manual</td>\n",
       "      <td>4.0</td>\n",
       "      <td>N</td>\n",
       "      <td>N</td>\n",
       "      <td>S</td>\n",
       "      <td>N</td>\n",
       "      <td>S</td>\n",
       "      <td>N</td>\n",
       "      <td>S</td>\n",
       "      <td>S</td>\n",
       "      <td>S</td>\n",
       "      <td>S</td>\n",
       "      <td>N</td>\n",
       "      <td>N</td>\n",
       "    </tr>\n",
       "  </tbody>\n",
       "</table>\n",
       "</div>"
      ],
      "text/plain": [
       "   cod_anuncio  cod_cliente  cod_tipo_pessoa  prioridade  leads  views  \\\n",
       "2           95        16462                1           1      0      0   \n",
       "3          110         1987                1           1      0      0   \n",
       "4          117        18367                1           1      0      0   \n",
       "\n",
       "   cliques_telefone*  cod_marca_veiculo  cod_modelo_veiculo  \\\n",
       "2                  6                 12                2722   \n",
       "3                  2                  2                1161   \n",
       "4                 10                  3                 687   \n",
       "\n",
       "   cod_versao_veiculo  ano_modelo  cep_2dig                  uf_cidade  \\\n",
       "2              342061        2010         8                    SP_PoÃ¡   \n",
       "3              339241        2009         1              SP_SÃ£o Paulo   \n",
       "4              344077        2010         9  SP_SÃ£o Bernardo do Campo   \n",
       "\n",
       "   vlr_anuncio  qtd_fotos  km_veiculo  vlr_mercado  flg_unico_dono  \\\n",
       "2      31900.0          8       74000  26875.00573               1   \n",
       "3      25500.0          8      128000  23779.45322               0   \n",
       "4      23990.0          6       60000  22428.12461               1   \n",
       "\n",
       "   flg_licenciado  flg_ipva_pago  flg_todas_revisoes_concessionaria  \\\n",
       "2               1            1.0                                1.0   \n",
       "3               1            1.0                                0.0   \n",
       "4               1            1.0                                0.0   \n",
       "\n",
       "   flg_todas_revisoes_agenda_veiculo  flg_garantia_fabrica  flg_blindado  \\\n",
       "2                                  0                   1.0             0   \n",
       "3                                  0                   0.0             0   \n",
       "4                                  0                   0.0             0   \n",
       "\n",
       "   flg_aceita_troca  flg_adaptado_pcd        combustivel  \\\n",
       "2                 1               0.0  gasolina e alcool   \n",
       "3                 1               0.0  gasolina e alcool   \n",
       "4                 1               0.0  gasolina e alcool   \n",
       "\n",
       "                  cambio  portas alarme airbag arquente bancocouro arcondic  \\\n",
       "2  automatico sequencial     4.0      S      S        S          S        S   \n",
       "3             automatico     4.0      S      S        S          N        S   \n",
       "4                 manual     4.0      N      N        S          N        S   \n",
       "\n",
       "  abs desembtras travaeletr vidroseletr rodasliga sensorchuva sensorestacion  \n",
       "2   S          S          S           S         S           S              S  \n",
       "3   S          S          S           S         N           N              N  \n",
       "4   N          S          S           S         S           N              N  "
      ]
     },
     "execution_count": 17,
     "metadata": {},
     "output_type": "execute_result"
    }
   ],
   "source": [
    "df.head(3)"
   ]
  },
  {
   "cell_type": "markdown",
   "metadata": {},
   "source": [
    "# Análise Exploratória dos Dados"
   ]
  },
  {
   "cell_type": "markdown",
   "metadata": {},
   "source": [
    "### Análise da Variável Target"
   ]
  },
  {
   "cell_type": "code",
   "execution_count": 18,
   "metadata": {},
   "outputs": [
    {
     "data": {
      "text/plain": [
       "count    41322.000000\n",
       "mean         3.600261\n",
       "std          8.712076\n",
       "min          0.000000\n",
       "25%          1.000000\n",
       "50%          1.000000\n",
       "75%          4.000000\n",
       "max        348.000000\n",
       "Name: leads, dtype: float64"
      ]
     },
     "execution_count": 18,
     "metadata": {},
     "output_type": "execute_result"
    }
   ],
   "source": [
    "df.leads.describe()"
   ]
  },
  {
   "cell_type": "code",
   "execution_count": 253,
   "metadata": {},
   "outputs": [
    {
     "data": {
      "image/png": "[encoded data removed]",
      "text/plain": [
       "<Figure size 720x504 with 1 Axes>"
      ]
     },
     "metadata": {
      "needs_background": "light"
     },
     "output_type": "display_data"
    }
   ],
   "source": [
    "# Plot do describe da variável 'leads'\n",
    "\n",
    "describe_lead = pd.DataFrame(df['leads'].describe())\n",
    "describe_lead\n",
    "\n",
    "plt.figure(figsize = (10,7))\n",
    "sns.pointplot(data = describe_lead, y = describe_lead.leads[1:], x = describe_lead.index[1:])\n",
    "plt.title('Plot das Estatísticas Descritivas da Variável Target leads', fontdict={'fontsize':18})\n",
    "plt.show()"
   ]
  },
  {
   "cell_type": "markdown",
   "metadata": {},
   "source": [
    "A grande maioria dos anuncios possuem lead baixos, cerca de 75% deles estão com até 4 leads"
   ]
  },
  {
   "cell_type": "code",
   "execution_count": 19,
   "metadata": {},
   "outputs": [
    {
     "data": {
      "text/plain": [
       "1     20638\n",
       "0      9286\n",
       "4      5439\n",
       "8      2276\n",
       "12     1198\n",
       "Name: leads, dtype: int64"
      ]
     },
     "execution_count": 19,
     "metadata": {},
     "output_type": "execute_result"
    }
   ],
   "source": [
    "# Quase da metade dos anúncios possuem apenas 1 lead\n",
    "df.leads.value_counts().head(5)"
   ]
  },
  {
   "cell_type": "code",
   "execution_count": 20,
   "metadata": {},
   "outputs": [
    {
     "data": {
      "text/plain": [
       "<matplotlib.axes._subplots.AxesSubplot at 0x122e48ad288>"
      ]
     },
     "execution_count": 20,
     "metadata": {},
     "output_type": "execute_result"
    },
    {
     "data": {
      "image/png": "[encoded data removed]",
      "text/plain": [
       "<Figure size 720x504 with 1 Axes>"
      ]
     },
     "metadata": {
      "needs_background": "light"
     },
     "output_type": "display_data"
    }
   ],
   "source": [
    "# Visualização da distribuição da variável target (leads)\n",
    "plt.figure(figsize = (10,7))\n",
    "\n",
    "sns.histplot(data = df, x = df.leads, bins = 20, color = 'r', kde = True)"
   ]
  },
  {
   "cell_type": "markdown",
   "metadata": {},
   "source": [
    "É possível verificar uma distribuição totalmente desbalanceada para a variável 'leads', com uma concetração de registros com até 10 leads"
   ]
  },
  {
   "cell_type": "code",
   "execution_count": 21,
   "metadata": {},
   "outputs": [
    {
     "data": {
      "text/plain": [
       "count    41322.000000\n",
       "mean         3.600261\n",
       "std          8.712076\n",
       "min          0.000000\n",
       "25%          1.000000\n",
       "50%          1.000000\n",
       "75%          4.000000\n",
       "max        348.000000\n",
       "Name: leads, dtype: float64"
      ]
     },
     "execution_count": 21,
     "metadata": {},
     "output_type": "execute_result"
    }
   ],
   "source": [
    "df.leads.describe()"
   ]
  },
  {
   "cell_type": "code",
   "execution_count": 22,
   "metadata": {},
   "outputs": [
    {
     "data": {
      "text/plain": [
       "<matplotlib.axes._subplots.AxesSubplot at 0x122e5e790c8>"
      ]
     },
     "execution_count": 22,
     "metadata": {},
     "output_type": "execute_result"
    },
    {
     "data": {
      "image/png": "[encoded data removed]",
      "text/plain": [
       "<Figure size 360x576 with 1 Axes>"
      ]
     },
     "metadata": {
      "needs_background": "light"
     },
     "output_type": "display_data"
    }
   ],
   "source": [
    "# Boxplot da variável target 'leads'\n",
    "plt.figure(figsize= (5,8))\n",
    "\n",
    "sns.boxplot(data = df, y = 'leads', orient = 'v', color = 'r')"
   ]
  },
  {
   "cell_type": "markdown",
   "metadata": {},
   "source": [
    "É possível verificar uma grande quantidade de outliers."
   ]
  },
  {
   "cell_type": "code",
   "execution_count": 89,
   "metadata": {},
   "outputs": [
    {
     "data": {
      "text/html": [
       "<div>\n",
       "<style scoped>\n",
       "    .dataframe tbody tr th:only-of-type {\n",
       "        vertical-align: middle;\n",
       "    }\n",
       "\n",
       "    .dataframe tbody tr th {\n",
       "        vertical-align: top;\n",
       "    }\n",
       "\n",
       "    .dataframe thead th {\n",
       "        text-align: right;\n",
       "    }\n",
       "</style>\n",
       "<table border=\"1\" class=\"dataframe\">\n",
       "  <thead>\n",
       "    <tr style=\"text-align: right;\">\n",
       "      <th></th>\n",
       "      <th>cod_anuncio</th>\n",
       "      <th>cod_cliente</th>\n",
       "      <th>cod_tipo_pessoa</th>\n",
       "      <th>prioridade</th>\n",
       "      <th>leads</th>\n",
       "      <th>views</th>\n",
       "      <th>cliques_telefone*</th>\n",
       "      <th>cod_marca_veiculo</th>\n",
       "      <th>cod_modelo_veiculo</th>\n",
       "      <th>cod_versao_veiculo</th>\n",
       "      <th>ano_modelo</th>\n",
       "      <th>cep_2dig</th>\n",
       "      <th>uf</th>\n",
       "      <th>cidade</th>\n",
       "      <th>vlr_anuncio</th>\n",
       "      <th>qtd_fotos</th>\n",
       "      <th>km_veiculo</th>\n",
       "      <th>vlr_mercado</th>\n",
       "      <th>flg_unico_dono</th>\n",
       "      <th>flg_licenciado</th>\n",
       "      <th>flg_ipva_pago</th>\n",
       "      <th>flg_todas_revisoes_concessionaria</th>\n",
       "      <th>flg_todas_revisoes_agenda_veiculo</th>\n",
       "      <th>flg_garantia_fabrica</th>\n",
       "      <th>flg_blindado</th>\n",
       "      <th>flg_aceita_troca</th>\n",
       "      <th>flg_adaptado_pcd</th>\n",
       "      <th>combustivel</th>\n",
       "      <th>cambio</th>\n",
       "      <th>portas</th>\n",
       "      <th>alarme</th>\n",
       "      <th>airbag</th>\n",
       "      <th>arquente</th>\n",
       "      <th>bancocouro</th>\n",
       "      <th>arcondic</th>\n",
       "      <th>abs</th>\n",
       "      <th>desembtras</th>\n",
       "      <th>travaeletr</th>\n",
       "      <th>vidroseletr</th>\n",
       "      <th>rodasliga</th>\n",
       "      <th>sensorchuva</th>\n",
       "      <th>sensorestacion</th>\n",
       "    </tr>\n",
       "  </thead>\n",
       "  <tbody>\n",
       "    <tr>\n",
       "      <th>40843</th>\n",
       "      <td>140393</td>\n",
       "      <td>4155</td>\n",
       "      <td>2</td>\n",
       "      <td>3</td>\n",
       "      <td>348</td>\n",
       "      <td>392</td>\n",
       "      <td>201</td>\n",
       "      <td>16</td>\n",
       "      <td>1194</td>\n",
       "      <td>311585</td>\n",
       "      <td>2004</td>\n",
       "      <td>3</td>\n",
       "      <td>SP</td>\n",
       "      <td>SÃ£o Paulo</td>\n",
       "      <td>16990.0</td>\n",
       "      <td>1</td>\n",
       "      <td>110000</td>\n",
       "      <td>18985.25460</td>\n",
       "      <td>0</td>\n",
       "      <td>1</td>\n",
       "      <td>1.0</td>\n",
       "      <td>0.0</td>\n",
       "      <td>0</td>\n",
       "      <td>0.0</td>\n",
       "      <td>0</td>\n",
       "      <td>0</td>\n",
       "      <td>0.0</td>\n",
       "      <td>gasolina</td>\n",
       "      <td>manual</td>\n",
       "      <td>4.0</td>\n",
       "      <td>S</td>\n",
       "      <td>S</td>\n",
       "      <td>S</td>\n",
       "      <td>N</td>\n",
       "      <td>S</td>\n",
       "      <td>N</td>\n",
       "      <td>S</td>\n",
       "      <td>S</td>\n",
       "      <td>S</td>\n",
       "      <td>N</td>\n",
       "      <td>N</td>\n",
       "      <td>N</td>\n",
       "    </tr>\n",
       "    <tr>\n",
       "      <th>40791</th>\n",
       "      <td>110626</td>\n",
       "      <td>3412</td>\n",
       "      <td>2</td>\n",
       "      <td>3</td>\n",
       "      <td>196</td>\n",
       "      <td>236</td>\n",
       "      <td>149</td>\n",
       "      <td>2</td>\n",
       "      <td>3340</td>\n",
       "      <td>344558</td>\n",
       "      <td>2013</td>\n",
       "      <td>4</td>\n",
       "      <td>SP</td>\n",
       "      <td>SÃ£o Paulo</td>\n",
       "      <td>29900.0</td>\n",
       "      <td>5</td>\n",
       "      <td>21247</td>\n",
       "      <td>31744.32162</td>\n",
       "      <td>0</td>\n",
       "      <td>0</td>\n",
       "      <td>0.0</td>\n",
       "      <td>0.0</td>\n",
       "      <td>0</td>\n",
       "      <td>0.0</td>\n",
       "      <td>0</td>\n",
       "      <td>0</td>\n",
       "      <td>0.0</td>\n",
       "      <td>gasolina e alcool</td>\n",
       "      <td>manual</td>\n",
       "      <td>4.0</td>\n",
       "      <td>N</td>\n",
       "      <td>S</td>\n",
       "      <td>S</td>\n",
       "      <td>N</td>\n",
       "      <td>S</td>\n",
       "      <td>S</td>\n",
       "      <td>N</td>\n",
       "      <td>S</td>\n",
       "      <td>S</td>\n",
       "      <td>N</td>\n",
       "      <td>N</td>\n",
       "      <td>N</td>\n",
       "    </tr>\n",
       "    <tr>\n",
       "      <th>40829</th>\n",
       "      <td>108213</td>\n",
       "      <td>19289</td>\n",
       "      <td>1</td>\n",
       "      <td>1</td>\n",
       "      <td>196</td>\n",
       "      <td>228</td>\n",
       "      <td>179</td>\n",
       "      <td>16</td>\n",
       "      <td>3053</td>\n",
       "      <td>342656</td>\n",
       "      <td>2013</td>\n",
       "      <td>3</td>\n",
       "      <td>SP</td>\n",
       "      <td>SÃ£o Paulo</td>\n",
       "      <td>36500.0</td>\n",
       "      <td>8</td>\n",
       "      <td>68900</td>\n",
       "      <td>43563.58112</td>\n",
       "      <td>0</td>\n",
       "      <td>1</td>\n",
       "      <td>1.0</td>\n",
       "      <td>0.0</td>\n",
       "      <td>0</td>\n",
       "      <td>0.0</td>\n",
       "      <td>0</td>\n",
       "      <td>0</td>\n",
       "      <td>0.0</td>\n",
       "      <td>gasolina e alcool</td>\n",
       "      <td>automatico</td>\n",
       "      <td>4.0</td>\n",
       "      <td>S</td>\n",
       "      <td>S</td>\n",
       "      <td>S</td>\n",
       "      <td>S</td>\n",
       "      <td>S</td>\n",
       "      <td>S</td>\n",
       "      <td>S</td>\n",
       "      <td>S</td>\n",
       "      <td>S</td>\n",
       "      <td>S</td>\n",
       "      <td>N</td>\n",
       "      <td>N</td>\n",
       "    </tr>\n",
       "    <tr>\n",
       "      <th>37736</th>\n",
       "      <td>176263</td>\n",
       "      <td>4564</td>\n",
       "      <td>2</td>\n",
       "      <td>1</td>\n",
       "      <td>184</td>\n",
       "      <td>1000</td>\n",
       "      <td>136</td>\n",
       "      <td>218</td>\n",
       "      <td>3511</td>\n",
       "      <td>346906</td>\n",
       "      <td>2016</td>\n",
       "      <td>13</td>\n",
       "      <td>SP</td>\n",
       "      <td>Campinas</td>\n",
       "      <td>59990.0</td>\n",
       "      <td>8</td>\n",
       "      <td>34500</td>\n",
       "      <td>65879.97643</td>\n",
       "      <td>1</td>\n",
       "      <td>1</td>\n",
       "      <td>1.0</td>\n",
       "      <td>1.0</td>\n",
       "      <td>0</td>\n",
       "      <td>1.0</td>\n",
       "      <td>0</td>\n",
       "      <td>0</td>\n",
       "      <td>0.0</td>\n",
       "      <td>gasolina e alcool</td>\n",
       "      <td>automatico</td>\n",
       "      <td>4.0</td>\n",
       "      <td>S</td>\n",
       "      <td>S</td>\n",
       "      <td>S</td>\n",
       "      <td>N</td>\n",
       "      <td>S</td>\n",
       "      <td>S</td>\n",
       "      <td>S</td>\n",
       "      <td>S</td>\n",
       "      <td>S</td>\n",
       "      <td>N</td>\n",
       "      <td>N</td>\n",
       "      <td>N</td>\n",
       "    </tr>\n",
       "    <tr>\n",
       "      <th>40026</th>\n",
       "      <td>137489</td>\n",
       "      <td>13067</td>\n",
       "      <td>1</td>\n",
       "      <td>1</td>\n",
       "      <td>168</td>\n",
       "      <td>372</td>\n",
       "      <td>152</td>\n",
       "      <td>17</td>\n",
       "      <td>3130</td>\n",
       "      <td>344308</td>\n",
       "      <td>2013</td>\n",
       "      <td>1</td>\n",
       "      <td>SP</td>\n",
       "      <td>SÃ£o Paulo</td>\n",
       "      <td>42000.0</td>\n",
       "      <td>8</td>\n",
       "      <td>65000</td>\n",
       "      <td>60415.40415</td>\n",
       "      <td>0</td>\n",
       "      <td>0</td>\n",
       "      <td>0.0</td>\n",
       "      <td>0.0</td>\n",
       "      <td>0</td>\n",
       "      <td>0.0</td>\n",
       "      <td>0</td>\n",
       "      <td>0</td>\n",
       "      <td>0.0</td>\n",
       "      <td>gasolina e alcool</td>\n",
       "      <td>automatico</td>\n",
       "      <td>4.0</td>\n",
       "      <td>S</td>\n",
       "      <td>S</td>\n",
       "      <td>S</td>\n",
       "      <td>S</td>\n",
       "      <td>S</td>\n",
       "      <td>S</td>\n",
       "      <td>S</td>\n",
       "      <td>S</td>\n",
       "      <td>S</td>\n",
       "      <td>S</td>\n",
       "      <td>N</td>\n",
       "      <td>N</td>\n",
       "    </tr>\n",
       "  </tbody>\n",
       "</table>\n",
       "</div>"
      ],
      "text/plain": [
       "       cod_anuncio  cod_cliente  cod_tipo_pessoa  prioridade  leads  views  \\\n",
       "40843       140393         4155                2           3    348    392   \n",
       "40791       110626         3412                2           3    196    236   \n",
       "40829       108213        19289                1           1    196    228   \n",
       "37736       176263         4564                2           1    184   1000   \n",
       "40026       137489        13067                1           1    168    372   \n",
       "\n",
       "       cliques_telefone*  cod_marca_veiculo  cod_modelo_veiculo  \\\n",
       "40843                201                 16                1194   \n",
       "40791                149                  2                3340   \n",
       "40829                179                 16                3053   \n",
       "37736                136                218                3511   \n",
       "40026                152                 17                3130   \n",
       "\n",
       "       cod_versao_veiculo  ano_modelo  cep_2dig  uf      cidade  vlr_anuncio  \\\n",
       "40843              311585        2004         3  SP  SÃ£o Paulo      16990.0   \n",
       "40791              344558        2013         4  SP  SÃ£o Paulo      29900.0   \n",
       "40829              342656        2013         3  SP  SÃ£o Paulo      36500.0   \n",
       "37736              346906        2016        13  SP    Campinas      59990.0   \n",
       "40026              344308        2013         1  SP  SÃ£o Paulo      42000.0   \n",
       "\n",
       "       qtd_fotos  km_veiculo  vlr_mercado  flg_unico_dono  flg_licenciado  \\\n",
       "40843          1      110000  18985.25460               0               1   \n",
       "40791          5       21247  31744.32162               0               0   \n",
       "40829          8       68900  43563.58112               0               1   \n",
       "37736          8       34500  65879.97643               1               1   \n",
       "40026          8       65000  60415.40415               0               0   \n",
       "\n",
       "       flg_ipva_pago  flg_todas_revisoes_concessionaria  \\\n",
       "40843            1.0                                0.0   \n",
       "40791            0.0                                0.0   \n",
       "40829            1.0                                0.0   \n",
       "37736            1.0                                1.0   \n",
       "40026            0.0                                0.0   \n",
       "\n",
       "       flg_todas_revisoes_agenda_veiculo  flg_garantia_fabrica  flg_blindado  \\\n",
       "40843                                  0                   0.0             0   \n",
       "40791                                  0                   0.0             0   \n",
       "40829                                  0                   0.0             0   \n",
       "37736                                  0                   1.0             0   \n",
       "40026                                  0                   0.0             0   \n",
       "\n",
       "       flg_aceita_troca  flg_adaptado_pcd        combustivel      cambio  \\\n",
       "40843                 0               0.0           gasolina      manual   \n",
       "40791                 0               0.0  gasolina e alcool      manual   \n",
       "40829                 0               0.0  gasolina e alcool  automatico   \n",
       "37736                 0               0.0  gasolina e alcool  automatico   \n",
       "40026                 0               0.0  gasolina e alcool  automatico   \n",
       "\n",
       "       portas alarme airbag arquente bancocouro arcondic abs desembtras  \\\n",
       "40843     4.0      S      S        S          N        S   N          S   \n",
       "40791     4.0      N      S        S          N        S   S          N   \n",
       "40829     4.0      S      S        S          S        S   S          S   \n",
       "37736     4.0      S      S        S          N        S   S          S   \n",
       "40026     4.0      S      S        S          S        S   S          S   \n",
       "\n",
       "      travaeletr vidroseletr rodasliga sensorchuva sensorestacion  \n",
       "40843          S           S         N           N              N  \n",
       "40791          S           S         N           N              N  \n",
       "40829          S           S         S           N              N  \n",
       "37736          S           S         N           N              N  \n",
       "40026          S           S         S           N              N  "
      ]
     },
     "execution_count": 89,
     "metadata": {},
     "output_type": "execute_result"
    }
   ],
   "source": [
    "# Visualizando os registros com maiores números de leads\n",
    "df.iloc[df.leads.nlargest(5).index]"
   ]
  },
  {
   "cell_type": "code",
   "execution_count": 23,
   "metadata": {},
   "outputs": [
    {
     "name": "stdout",
     "output_type": "stream",
     "text": [
      "766\n"
     ]
    }
   ],
   "source": [
    "# Vamos considerar outliers, registros com valores de zscore maior que t3\n",
    "\n",
    "qtd_leads = []\n",
    "zscore = stats.zscore(df.leads)\n",
    "for i in zscore:\n",
    "    if i > 3:\n",
    "        qtd_leads.append(i)\n",
    "print(len(qtd_leads))\n",
    "\n",
    "# Temos 766 registros considaderados como outliers na coluna leads que poderão ser tratados posteriormente"
   ]
  },
  {
   "cell_type": "code",
   "execution_count": 24,
   "metadata": {},
   "outputs": [
    {
     "data": {
      "text/plain": [
       "Index(['cod_anuncio', 'cod_cliente', 'cod_tipo_pessoa', 'prioridade', 'leads',\n",
       "       'views', 'cliques_telefone*', 'cod_marca_veiculo', 'cod_modelo_veiculo',\n",
       "       'cod_versao_veiculo', 'ano_modelo', 'cep_2dig', 'uf_cidade',\n",
       "       'vlr_anuncio', 'qtd_fotos', 'km_veiculo', 'vlr_mercado',\n",
       "       'flg_unico_dono', 'flg_licenciado', 'flg_ipva_pago',\n",
       "       'flg_todas_revisoes_concessionaria',\n",
       "       'flg_todas_revisoes_agenda_veiculo', 'flg_garantia_fabrica',\n",
       "       'flg_blindado', 'flg_aceita_troca', 'flg_adaptado_pcd', 'combustivel',\n",
       "       'cambio', 'portas', 'alarme', 'airbag', 'arquente', 'bancocouro',\n",
       "       'arcondic', 'abs', 'desembtras', 'travaeletr', 'vidroseletr',\n",
       "       'rodasliga', 'sensorchuva', 'sensorestacion'],\n",
       "      dtype='object')"
      ]
     },
     "execution_count": 24,
     "metadata": {},
     "output_type": "execute_result"
    }
   ],
   "source": [
    "df.columns"
   ]
  },
  {
   "cell_type": "code",
   "execution_count": 25,
   "metadata": {},
   "outputs": [],
   "source": [
    "# Separando as colunas numéricas das categóricas\n",
    "\n",
    "num_var = ['leads', 'views', 'cliques_telefone*','vlr_anuncio', 'qtd_fotos', 'km_veiculo', 'vlr_mercado',]\n",
    "\n",
    "cat_var = ['leads','cod_tipo_pessoa', 'prioridade','cod_marca_veiculo', 'cod_modelo_veiculo','cod_versao_veiculo', 'ano_modelo',\n",
    "           'uf_cidade','flg_unico_dono', 'flg_licenciado', 'flg_ipva_pago', 'flg_todas_revisoes_concessionaria',\n",
    "           'flg_todas_revisoes_agenda_veiculo', 'flg_garantia_fabrica','flg_blindado', 'flg_aceita_troca', 'flg_adaptado_pcd', 'combustivel',\n",
    "           'cambio', 'portas', 'alarme', 'airbag', 'arquente', 'bancocouro', 'arcondic', 'abs', 'desembtras', 'travaeletr', 'vidroseletr',\n",
    "           'rodasliga', 'sensorchuva', 'sensorestacion']"
   ]
  },
  {
   "cell_type": "markdown",
   "metadata": {},
   "source": [
    "## Variáveis Categóricas"
   ]
  },
  {
   "cell_type": "markdown",
   "metadata": {},
   "source": [
    "* Como não é possível fazer correlação entre variáveis categóricas e variáveis contínuas ('leads'), irei separar as variáveis e análisar a influência delas na variável target('lead') e depois fazer concatenações com outras variáveis categóricas para verificar o quanto influencia na target"
   ]
  },
  {
   "cell_type": "code",
   "execution_count": 26,
   "metadata": {},
   "outputs": [],
   "source": [
    "df_cat = df[cat_var]"
   ]
  },
  {
   "cell_type": "code",
   "execution_count": 27,
   "metadata": {},
   "outputs": [
    {
     "data": {
      "text/plain": [
       "Index(['leads', 'cod_tipo_pessoa', 'prioridade', 'cod_marca_veiculo',\n",
       "       'cod_modelo_veiculo', 'cod_versao_veiculo', 'ano_modelo', 'uf_cidade',\n",
       "       'flg_unico_dono', 'flg_licenciado', 'flg_ipva_pago',\n",
       "       'flg_todas_revisoes_concessionaria',\n",
       "       'flg_todas_revisoes_agenda_veiculo', 'flg_garantia_fabrica',\n",
       "       'flg_blindado', 'flg_aceita_troca', 'flg_adaptado_pcd', 'combustivel',\n",
       "       'cambio', 'portas', 'alarme', 'airbag', 'arquente', 'bancocouro',\n",
       "       'arcondic', 'abs', 'desembtras', 'travaeletr', 'vidroseletr',\n",
       "       'rodasliga', 'sensorchuva', 'sensorestacion'],\n",
       "      dtype='object')"
      ]
     },
     "execution_count": 27,
     "metadata": {},
     "output_type": "execute_result"
    }
   ],
   "source": [
    "df_cat.columns"
   ]
  },
  {
   "cell_type": "code",
   "execution_count": 28,
   "metadata": {},
   "outputs": [
    {
     "data": {
      "text/plain": [
       "['uf_cidade',\n",
       " 'combustivel',\n",
       " 'cambio',\n",
       " 'alarme',\n",
       " 'airbag',\n",
       " 'arquente',\n",
       " 'bancocouro',\n",
       " 'arcondic',\n",
       " 'abs',\n",
       " 'desembtras',\n",
       " 'travaeletr',\n",
       " 'vidroseletr',\n",
       " 'rodasliga',\n",
       " 'sensorchuva',\n",
       " 'sensorestacion']"
      ]
     },
     "execution_count": 28,
     "metadata": {},
     "output_type": "execute_result"
    }
   ],
   "source": [
    "# Criando uma lista com os nomes das colunas do tipo 'object'\n",
    "obj_list = df.select_dtypes(include = ['object']).columns.to_list()\n",
    "obj_list"
   ]
  },
  {
   "cell_type": "code",
   "execution_count": 29,
   "metadata": {},
   "outputs": [
    {
     "data": {
      "text/plain": [
       "cod_marca_veiculo       44\n",
       "cod_modelo_veiculo     428\n",
       "cod_versao_veiculo    2881\n",
       "dtype: int64"
      ]
     },
     "execution_count": 29,
     "metadata": {},
     "output_type": "execute_result"
    }
   ],
   "source": [
    "# quantidade de valores unicos das marcas, modelos e versões dos carros anunciados\n",
    "df[['cod_marca_veiculo','cod_modelo_veiculo','cod_versao_veiculo']].nunique()"
   ]
  },
  {
   "cell_type": "code",
   "execution_count": 30,
   "metadata": {},
   "outputs": [
    {
     "data": {
      "text/plain": [
       "SP_SÃ£o Paulo                 7136\n",
       "RJ_Rio de Janeiro             1841\n",
       "PR_Curitiba                   1825\n",
       "DF_BrasÃ­lia                  1477\n",
       "MG_Belo Horizonte             1183\n",
       "SP_Campinas                   1163\n",
       "SP_SÃ£o Bernardo do Campo      701\n",
       "SP_Santo AndrÃ©                637\n",
       "RS_Porto Alegre                606\n",
       "SP_SÃ£o JosÃ© do Rio Preto     587\n",
       "Name: uf_cidade, dtype: int64"
      ]
     },
     "execution_count": 30,
     "metadata": {},
     "output_type": "execute_result"
    }
   ],
   "source": [
    "# Cidades que mais aparecerem no dataset\n",
    "df.uf_cidade.value_counts().head(10)"
   ]
  },
  {
   "cell_type": "code",
   "execution_count": 31,
   "metadata": {},
   "outputs": [
    {
     "data": {
      "text/html": [
       "<div>\n",
       "<style scoped>\n",
       "    .dataframe tbody tr th:only-of-type {\n",
       "        vertical-align: middle;\n",
       "    }\n",
       "\n",
       "    .dataframe tbody tr th {\n",
       "        vertical-align: top;\n",
       "    }\n",
       "\n",
       "    .dataframe thead th {\n",
       "        text-align: right;\n",
       "    }\n",
       "</style>\n",
       "<table border=\"1\" class=\"dataframe\">\n",
       "  <thead>\n",
       "    <tr style=\"text-align: right;\">\n",
       "      <th></th>\n",
       "      <th>uf_cidade</th>\n",
       "      <th>combustivel</th>\n",
       "      <th>cambio</th>\n",
       "      <th>alarme</th>\n",
       "      <th>airbag</th>\n",
       "      <th>arquente</th>\n",
       "      <th>bancocouro</th>\n",
       "      <th>arcondic</th>\n",
       "      <th>abs</th>\n",
       "      <th>desembtras</th>\n",
       "      <th>travaeletr</th>\n",
       "      <th>vidroseletr</th>\n",
       "      <th>rodasliga</th>\n",
       "      <th>sensorchuva</th>\n",
       "      <th>sensorestacion</th>\n",
       "    </tr>\n",
       "  </thead>\n",
       "  <tbody>\n",
       "    <tr>\n",
       "      <th>count</th>\n",
       "      <td>41322</td>\n",
       "      <td>41322</td>\n",
       "      <td>41322</td>\n",
       "      <td>41322</td>\n",
       "      <td>41322</td>\n",
       "      <td>41322</td>\n",
       "      <td>41322</td>\n",
       "      <td>41322</td>\n",
       "      <td>41322</td>\n",
       "      <td>41322</td>\n",
       "      <td>41322</td>\n",
       "      <td>41322</td>\n",
       "      <td>41322</td>\n",
       "      <td>41322</td>\n",
       "      <td>41322</td>\n",
       "    </tr>\n",
       "    <tr>\n",
       "      <th>unique</th>\n",
       "      <td>844</td>\n",
       "      <td>10</td>\n",
       "      <td>7</td>\n",
       "      <td>2</td>\n",
       "      <td>2</td>\n",
       "      <td>2</td>\n",
       "      <td>2</td>\n",
       "      <td>2</td>\n",
       "      <td>2</td>\n",
       "      <td>2</td>\n",
       "      <td>2</td>\n",
       "      <td>2</td>\n",
       "      <td>2</td>\n",
       "      <td>2</td>\n",
       "      <td>2</td>\n",
       "    </tr>\n",
       "    <tr>\n",
       "      <th>top</th>\n",
       "      <td>SP_SÃ£o Paulo</td>\n",
       "      <td>gasolina e alcool</td>\n",
       "      <td>manual</td>\n",
       "      <td>S</td>\n",
       "      <td>S</td>\n",
       "      <td>S</td>\n",
       "      <td>N</td>\n",
       "      <td>S</td>\n",
       "      <td>S</td>\n",
       "      <td>S</td>\n",
       "      <td>S</td>\n",
       "      <td>S</td>\n",
       "      <td>S</td>\n",
       "      <td>N</td>\n",
       "      <td>N</td>\n",
       "    </tr>\n",
       "    <tr>\n",
       "      <th>freq</th>\n",
       "      <td>7136</td>\n",
       "      <td>31650</td>\n",
       "      <td>23415</td>\n",
       "      <td>25751</td>\n",
       "      <td>28219</td>\n",
       "      <td>26243</td>\n",
       "      <td>28115</td>\n",
       "      <td>35562</td>\n",
       "      <td>26406</td>\n",
       "      <td>26278</td>\n",
       "      <td>35476</td>\n",
       "      <td>35188</td>\n",
       "      <td>22739</td>\n",
       "      <td>38106</td>\n",
       "      <td>29904</td>\n",
       "    </tr>\n",
       "  </tbody>\n",
       "</table>\n",
       "</div>"
      ],
      "text/plain": [
       "            uf_cidade        combustivel  cambio alarme airbag arquente  \\\n",
       "count           41322              41322   41322  41322  41322    41322   \n",
       "unique            844                 10       7      2      2        2   \n",
       "top     SP_SÃ£o Paulo  gasolina e alcool  manual      S      S        S   \n",
       "freq             7136              31650   23415  25751  28219    26243   \n",
       "\n",
       "       bancocouro arcondic    abs desembtras travaeletr vidroseletr rodasliga  \\\n",
       "count       41322    41322  41322      41322      41322       41322     41322   \n",
       "unique          2        2      2          2          2           2         2   \n",
       "top             N        S      S          S          S           S         S   \n",
       "freq        28115    35562  26406      26278      35476       35188     22739   \n",
       "\n",
       "       sensorchuva sensorestacion  \n",
       "count        41322          41322  \n",
       "unique           2              2  \n",
       "top              N              N  \n",
       "freq         38106          29904  "
      ]
     },
     "execution_count": 31,
     "metadata": {},
     "output_type": "execute_result"
    }
   ],
   "source": [
    "# Describe das variáveis do tipo 'object'\n",
    "df[obj_list].describe()"
   ]
  },
  {
   "cell_type": "code",
   "execution_count": 32,
   "metadata": {},
   "outputs": [
    {
     "data": {
      "text/html": [
       "<div>\n",
       "<style scoped>\n",
       "    .dataframe tbody tr th:only-of-type {\n",
       "        vertical-align: middle;\n",
       "    }\n",
       "\n",
       "    .dataframe tbody tr th {\n",
       "        vertical-align: top;\n",
       "    }\n",
       "\n",
       "    .dataframe thead th {\n",
       "        text-align: right;\n",
       "    }\n",
       "</style>\n",
       "<table border=\"1\" class=\"dataframe\">\n",
       "  <thead>\n",
       "    <tr style=\"text-align: right;\">\n",
       "      <th></th>\n",
       "      <th>leads</th>\n",
       "      <th>cod_tipo_pessoa</th>\n",
       "      <th>prioridade</th>\n",
       "      <th>cod_marca_veiculo</th>\n",
       "      <th>cod_modelo_veiculo</th>\n",
       "      <th>cod_versao_veiculo</th>\n",
       "      <th>ano_modelo</th>\n",
       "      <th>flg_unico_dono</th>\n",
       "      <th>flg_licenciado</th>\n",
       "      <th>flg_ipva_pago</th>\n",
       "      <th>flg_todas_revisoes_concessionaria</th>\n",
       "      <th>flg_todas_revisoes_agenda_veiculo</th>\n",
       "      <th>flg_garantia_fabrica</th>\n",
       "      <th>flg_blindado</th>\n",
       "      <th>flg_aceita_troca</th>\n",
       "      <th>flg_adaptado_pcd</th>\n",
       "      <th>portas</th>\n",
       "    </tr>\n",
       "  </thead>\n",
       "  <tbody>\n",
       "    <tr>\n",
       "      <th>count</th>\n",
       "      <td>41322.000000</td>\n",
       "      <td>41322.000000</td>\n",
       "      <td>41322.000000</td>\n",
       "      <td>41322.000000</td>\n",
       "      <td>41322.000000</td>\n",
       "      <td>41322.000000</td>\n",
       "      <td>41322.000000</td>\n",
       "      <td>41322.000000</td>\n",
       "      <td>41322.000000</td>\n",
       "      <td>41322.000000</td>\n",
       "      <td>41322.000000</td>\n",
       "      <td>41322.000000</td>\n",
       "      <td>41322.000000</td>\n",
       "      <td>41322.000000</td>\n",
       "      <td>41322.000000</td>\n",
       "      <td>41322.000000</td>\n",
       "      <td>41322.000000</td>\n",
       "    </tr>\n",
       "    <tr>\n",
       "      <th>mean</th>\n",
       "      <td>3.600261</td>\n",
       "      <td>1.882411</td>\n",
       "      <td>2.614781</td>\n",
       "      <td>18.643023</td>\n",
       "      <td>2072.048110</td>\n",
       "      <td>343161.451817</td>\n",
       "      <td>2013.517037</td>\n",
       "      <td>0.212574</td>\n",
       "      <td>0.299380</td>\n",
       "      <td>0.400610</td>\n",
       "      <td>0.148105</td>\n",
       "      <td>0.060500</td>\n",
       "      <td>0.069576</td>\n",
       "      <td>0.017013</td>\n",
       "      <td>0.070955</td>\n",
       "      <td>0.000387</td>\n",
       "      <td>3.780214</td>\n",
       "    </tr>\n",
       "    <tr>\n",
       "      <th>std</th>\n",
       "      <td>8.712076</td>\n",
       "      <td>0.322124</td>\n",
       "      <td>0.760240</td>\n",
       "      <td>36.442259</td>\n",
       "      <td>1110.922968</td>\n",
       "      <td>8338.140697</td>\n",
       "      <td>3.473578</td>\n",
       "      <td>0.409134</td>\n",
       "      <td>0.457992</td>\n",
       "      <td>0.490028</td>\n",
       "      <td>0.355208</td>\n",
       "      <td>0.238415</td>\n",
       "      <td>0.254433</td>\n",
       "      <td>0.129320</td>\n",
       "      <td>0.256753</td>\n",
       "      <td>0.019674</td>\n",
       "      <td>0.734626</td>\n",
       "    </tr>\n",
       "    <tr>\n",
       "      <th>min</th>\n",
       "      <td>0.000000</td>\n",
       "      <td>1.000000</td>\n",
       "      <td>1.000000</td>\n",
       "      <td>2.000000</td>\n",
       "      <td>650.000000</td>\n",
       "      <td>1429.000000</td>\n",
       "      <td>1951.000000</td>\n",
       "      <td>0.000000</td>\n",
       "      <td>0.000000</td>\n",
       "      <td>0.000000</td>\n",
       "      <td>0.000000</td>\n",
       "      <td>0.000000</td>\n",
       "      <td>0.000000</td>\n",
       "      <td>0.000000</td>\n",
       "      <td>0.000000</td>\n",
       "      <td>0.000000</td>\n",
       "      <td>0.000000</td>\n",
       "    </tr>\n",
       "    <tr>\n",
       "      <th>25%</th>\n",
       "      <td>1.000000</td>\n",
       "      <td>2.000000</td>\n",
       "      <td>3.000000</td>\n",
       "      <td>4.000000</td>\n",
       "      <td>788.000000</td>\n",
       "      <td>342655.000000</td>\n",
       "      <td>2012.000000</td>\n",
       "      <td>0.000000</td>\n",
       "      <td>0.000000</td>\n",
       "      <td>0.000000</td>\n",
       "      <td>0.000000</td>\n",
       "      <td>0.000000</td>\n",
       "      <td>0.000000</td>\n",
       "      <td>0.000000</td>\n",
       "      <td>0.000000</td>\n",
       "      <td>0.000000</td>\n",
       "      <td>4.000000</td>\n",
       "    </tr>\n",
       "    <tr>\n",
       "      <th>50%</th>\n",
       "      <td>1.000000</td>\n",
       "      <td>2.000000</td>\n",
       "      <td>3.000000</td>\n",
       "      <td>5.000000</td>\n",
       "      <td>2487.000000</td>\n",
       "      <td>344131.000000</td>\n",
       "      <td>2014.000000</td>\n",
       "      <td>0.000000</td>\n",
       "      <td>0.000000</td>\n",
       "      <td>0.000000</td>\n",
       "      <td>0.000000</td>\n",
       "      <td>0.000000</td>\n",
       "      <td>0.000000</td>\n",
       "      <td>0.000000</td>\n",
       "      <td>0.000000</td>\n",
       "      <td>0.000000</td>\n",
       "      <td>4.000000</td>\n",
       "    </tr>\n",
       "    <tr>\n",
       "      <th>75%</th>\n",
       "      <td>4.000000</td>\n",
       "      <td>2.000000</td>\n",
       "      <td>3.000000</td>\n",
       "      <td>26.000000</td>\n",
       "      <td>3202.000000</td>\n",
       "      <td>345486.000000</td>\n",
       "      <td>2016.000000</td>\n",
       "      <td>0.000000</td>\n",
       "      <td>1.000000</td>\n",
       "      <td>1.000000</td>\n",
       "      <td>0.000000</td>\n",
       "      <td>0.000000</td>\n",
       "      <td>0.000000</td>\n",
       "      <td>0.000000</td>\n",
       "      <td>0.000000</td>\n",
       "      <td>0.000000</td>\n",
       "      <td>4.000000</td>\n",
       "    </tr>\n",
       "    <tr>\n",
       "      <th>max</th>\n",
       "      <td>348.000000</td>\n",
       "      <td>2.000000</td>\n",
       "      <td>3.000000</td>\n",
       "      <td>304.000000</td>\n",
       "      <td>3676.000000</td>\n",
       "      <td>347728.000000</td>\n",
       "      <td>2019.000000</td>\n",
       "      <td>1.000000</td>\n",
       "      <td>1.000000</td>\n",
       "      <td>1.000000</td>\n",
       "      <td>1.000000</td>\n",
       "      <td>1.000000</td>\n",
       "      <td>1.000000</td>\n",
       "      <td>1.000000</td>\n",
       "      <td>1.000000</td>\n",
       "      <td>1.000000</td>\n",
       "      <td>4.000000</td>\n",
       "    </tr>\n",
       "  </tbody>\n",
       "</table>\n",
       "</div>"
      ],
      "text/plain": [
       "              leads  cod_tipo_pessoa    prioridade  cod_marca_veiculo  \\\n",
       "count  41322.000000     41322.000000  41322.000000       41322.000000   \n",
       "mean       3.600261         1.882411      2.614781          18.643023   \n",
       "std        8.712076         0.322124      0.760240          36.442259   \n",
       "min        0.000000         1.000000      1.000000           2.000000   \n",
       "25%        1.000000         2.000000      3.000000           4.000000   \n",
       "50%        1.000000         2.000000      3.000000           5.000000   \n",
       "75%        4.000000         2.000000      3.000000          26.000000   \n",
       "max      348.000000         2.000000      3.000000         304.000000   \n",
       "\n",
       "       cod_modelo_veiculo  cod_versao_veiculo    ano_modelo  flg_unico_dono  \\\n",
       "count        41322.000000        41322.000000  41322.000000    41322.000000   \n",
       "mean          2072.048110       343161.451817   2013.517037        0.212574   \n",
       "std           1110.922968         8338.140697      3.473578        0.409134   \n",
       "min            650.000000         1429.000000   1951.000000        0.000000   \n",
       "25%            788.000000       342655.000000   2012.000000        0.000000   \n",
       "50%           2487.000000       344131.000000   2014.000000        0.000000   \n",
       "75%           3202.000000       345486.000000   2016.000000        0.000000   \n",
       "max           3676.000000       347728.000000   2019.000000        1.000000   \n",
       "\n",
       "       flg_licenciado  flg_ipva_pago  flg_todas_revisoes_concessionaria  \\\n",
       "count    41322.000000   41322.000000                       41322.000000   \n",
       "mean         0.299380       0.400610                           0.148105   \n",
       "std          0.457992       0.490028                           0.355208   \n",
       "min          0.000000       0.000000                           0.000000   \n",
       "25%          0.000000       0.000000                           0.000000   \n",
       "50%          0.000000       0.000000                           0.000000   \n",
       "75%          1.000000       1.000000                           0.000000   \n",
       "max          1.000000       1.000000                           1.000000   \n",
       "\n",
       "       flg_todas_revisoes_agenda_veiculo  flg_garantia_fabrica  flg_blindado  \\\n",
       "count                       41322.000000          41322.000000  41322.000000   \n",
       "mean                            0.060500              0.069576      0.017013   \n",
       "std                             0.238415              0.254433      0.129320   \n",
       "min                             0.000000              0.000000      0.000000   \n",
       "25%                             0.000000              0.000000      0.000000   \n",
       "50%                             0.000000              0.000000      0.000000   \n",
       "75%                             0.000000              0.000000      0.000000   \n",
       "max                             1.000000              1.000000      1.000000   \n",
       "\n",
       "       flg_aceita_troca  flg_adaptado_pcd        portas  \n",
       "count      41322.000000      41322.000000  41322.000000  \n",
       "mean           0.070955          0.000387      3.780214  \n",
       "std            0.256753          0.019674      0.734626  \n",
       "min            0.000000          0.000000      0.000000  \n",
       "25%            0.000000          0.000000      4.000000  \n",
       "50%            0.000000          0.000000      4.000000  \n",
       "75%            0.000000          0.000000      4.000000  \n",
       "max            1.000000          1.000000      4.000000  "
      ]
     },
     "execution_count": 32,
     "metadata": {},
     "output_type": "execute_result"
    }
   ],
   "source": [
    "# Describe das variáveis categóricas que estão representadas numéricamente\n",
    "df_cat.describe()"
   ]
  },
  {
   "cell_type": "markdown",
   "metadata": {},
   "source": [
    "### Variável combustivel"
   ]
  },
  {
   "cell_type": "code",
   "execution_count": 33,
   "metadata": {},
   "outputs": [
    {
     "data": {
      "image/png": "[encoded data removed]",
      "text/plain": [
       "<Figure size 2448x504 with 1 Axes>"
      ]
     },
     "metadata": {
      "needs_background": "light"
     },
     "output_type": "display_data"
    }
   ],
   "source": [
    "# Visualização da quantidade de anúncio pra cada tipo de combustível.\n",
    "plt.figure(figsize = (34,7))\n",
    "\n",
    "sns.countplot(x = df.combustivel)\n",
    "plt.title('Contagem dos Tipos de Combustiveis dos Carros Anunciados', fontdict={'fontsize':16})\n",
    "plt.xlabel('Tipo de Combustível', fontdict = {'fontsize': 12})\n",
    "plt.show()"
   ]
  },
  {
   "cell_type": "markdown",
   "metadata": {},
   "source": [
    "> A maior parte dos carros são flex(gasolina e álcool), seguidos por abastecimento a gasolina e diesel"
   ]
  },
  {
   "cell_type": "markdown",
   "metadata": {},
   "source": [
    "Relação do Tipo de Combustível com a Variável Target 'leads'"
   ]
  },
  {
   "cell_type": "code",
   "execution_count": 98,
   "metadata": {},
   "outputs": [
    {
     "data": {
      "text/html": [
       "<div>\n",
       "<style scoped>\n",
       "    .dataframe tbody tr th:only-of-type {\n",
       "        vertical-align: middle;\n",
       "    }\n",
       "\n",
       "    .dataframe tbody tr th {\n",
       "        vertical-align: top;\n",
       "    }\n",
       "\n",
       "    .dataframe thead th {\n",
       "        text-align: right;\n",
       "    }\n",
       "</style>\n",
       "<table border=\"1\" class=\"dataframe\">\n",
       "  <thead>\n",
       "    <tr style=\"text-align: right;\">\n",
       "      <th></th>\n",
       "      <th>leads</th>\n",
       "    </tr>\n",
       "    <tr>\n",
       "      <th>combustivel</th>\n",
       "      <th></th>\n",
       "    </tr>\n",
       "  </thead>\n",
       "  <tbody>\n",
       "    <tr>\n",
       "      <th>gasolina, alcool, gas natural e benzina</th>\n",
       "      <td>17.625000</td>\n",
       "    </tr>\n",
       "    <tr>\n",
       "      <th>gasolina e eletrico</th>\n",
       "      <td>5.750000</td>\n",
       "    </tr>\n",
       "    <tr>\n",
       "      <th>gasolina, alcool e gas natural</th>\n",
       "      <td>5.218391</td>\n",
       "    </tr>\n",
       "    <tr>\n",
       "      <th>gasolina</th>\n",
       "      <td>4.949872</td>\n",
       "    </tr>\n",
       "    <tr>\n",
       "      <th>diesel</th>\n",
       "      <td>4.721797</td>\n",
       "    </tr>\n",
       "    <tr>\n",
       "      <th>gasolina e gas natural</th>\n",
       "      <td>3.413793</td>\n",
       "    </tr>\n",
       "    <tr>\n",
       "      <th>gasolina e alcool</th>\n",
       "      <td>3.204613</td>\n",
       "    </tr>\n",
       "    <tr>\n",
       "      <th>alcool</th>\n",
       "      <td>2.375000</td>\n",
       "    </tr>\n",
       "    <tr>\n",
       "      <th>gas natural</th>\n",
       "      <td>2.346154</td>\n",
       "    </tr>\n",
       "    <tr>\n",
       "      <th>alcool e gas natural</th>\n",
       "      <td>2.000000</td>\n",
       "    </tr>\n",
       "  </tbody>\n",
       "</table>\n",
       "</div>"
      ],
      "text/plain": [
       "                                             leads\n",
       "combustivel                                       \n",
       "gasolina, alcool, gas natural e benzina  17.625000\n",
       "gasolina e eletrico                       5.750000\n",
       "gasolina, alcool e gas natural            5.218391\n",
       "gasolina                                  4.949872\n",
       "diesel                                    4.721797\n",
       "gasolina e gas natural                    3.413793\n",
       "gasolina e alcool                         3.204613\n",
       "alcool                                    2.375000\n",
       "gas natural                               2.346154\n",
       "alcool e gas natural                      2.000000"
      ]
     },
     "execution_count": 98,
     "metadata": {},
     "output_type": "execute_result"
    }
   ],
   "source": [
    "# Agrupando por combustivel\n",
    "df_comb = df_cat.groupby('combustivel').agg({'leads':'mean'}).sort_values('leads', ascending = False)\n",
    "df_comb"
   ]
  },
  {
   "cell_type": "code",
   "execution_count": 99,
   "metadata": {},
   "outputs": [
    {
     "data": {
      "image/png": "[encoded data removed]",
      "text/plain": [
       "<Figure size 2448x576 with 1 Axes>"
      ]
     },
     "metadata": {
      "needs_background": "light"
     },
     "output_type": "display_data"
    }
   ],
   "source": [
    "# Barplot da Média do número de leads por estado\n",
    "plt.figure(figsize = (34,8))\n",
    "\n",
    "sns.barplot(data = df_comb, x = df_comb.index, y = df_comb.leads, palette = 'magma')\n",
    "plt.title('Média de leads por Tipo de Combustível', fontdict = {'fontsize': 16}, weight = 'bold')\n",
    "plt.xlabel('Tipos de Combustível', fontdict = {'fontsize': 12})\n",
    "plt.ylabel('Média de leads', fontdict = {'fontsize': 12})\n",
    "plt.show()"
   ]
  },
  {
   "cell_type": "markdown",
   "metadata": {},
   "source": [
    "> Carros que aceitam todos os tipos de combustíveis são, isoladamente, os que mais recebem leads. No entanto, esses tipo de automóveis não são muito comuns.  \n",
    "Carros a gasolina e a diesel, que ja são carros que são mais frequentemente anunciados, possuem uma média de 4.9 e 4.7 respectivamente de leads por anuncio."
   ]
  },
  {
   "cell_type": "markdown",
   "metadata": {},
   "source": [
    "### Variável cambio"
   ]
  },
  {
   "cell_type": "code",
   "execution_count": 34,
   "metadata": {},
   "outputs": [
    {
     "data": {
      "image/png": "[encoded data removed]",
      "text/plain": [
       "<Figure size 792x504 with 1 Axes>"
      ]
     },
     "metadata": {
      "needs_background": "light"
     },
     "output_type": "display_data"
    }
   ],
   "source": [
    "# Visualização da quantidade de anúncio pra cada tipo de câmbio.\n",
    "plt.figure(figsize = (11,7))\n",
    "\n",
    "sns.countplot(x = df.cambio)\n",
    "plt.title('Contagem de Anúncio Para Cada Tipo de Câmbio dos Carros', fontdict={'fontsize':16})\n",
    "plt.xlabel('Tipo de Câmbio', fontdict = {'fontsize': 12})\n",
    "plt.show()"
   ]
  },
  {
   "cell_type": "markdown",
   "metadata": {},
   "source": [
    "> Duas categorias de câmbio dominam no número de aparições: Manual, seguido por Automático"
   ]
  },
  {
   "cell_type": "markdown",
   "metadata": {},
   "source": [
    "Relação do Tipo de Câmbio com a Variável Target 'leads'"
   ]
  },
  {
   "cell_type": "code",
   "execution_count": 100,
   "metadata": {},
   "outputs": [
    {
     "data": {
      "text/html": [
       "<div>\n",
       "<style scoped>\n",
       "    .dataframe tbody tr th:only-of-type {\n",
       "        vertical-align: middle;\n",
       "    }\n",
       "\n",
       "    .dataframe tbody tr th {\n",
       "        vertical-align: top;\n",
       "    }\n",
       "\n",
       "    .dataframe thead th {\n",
       "        text-align: right;\n",
       "    }\n",
       "</style>\n",
       "<table border=\"1\" class=\"dataframe\">\n",
       "  <thead>\n",
       "    <tr style=\"text-align: right;\">\n",
       "      <th></th>\n",
       "      <th>leads</th>\n",
       "    </tr>\n",
       "    <tr>\n",
       "      <th>cambio</th>\n",
       "      <th></th>\n",
       "    </tr>\n",
       "  </thead>\n",
       "  <tbody>\n",
       "    <tr>\n",
       "      <th>CVT</th>\n",
       "      <td>8.595801</td>\n",
       "    </tr>\n",
       "    <tr>\n",
       "      <th>automatizado</th>\n",
       "      <td>6.010638</td>\n",
       "    </tr>\n",
       "    <tr>\n",
       "      <th>automatizado DCT</th>\n",
       "      <td>5.285714</td>\n",
       "    </tr>\n",
       "    <tr>\n",
       "      <th>automatico</th>\n",
       "      <td>4.315963</td>\n",
       "    </tr>\n",
       "    <tr>\n",
       "      <th>manual</th>\n",
       "      <td>2.986718</td>\n",
       "    </tr>\n",
       "    <tr>\n",
       "      <th>semi-automatico</th>\n",
       "      <td>2.258929</td>\n",
       "    </tr>\n",
       "    <tr>\n",
       "      <th>automatico sequencial</th>\n",
       "      <td>0.250000</td>\n",
       "    </tr>\n",
       "  </tbody>\n",
       "</table>\n",
       "</div>"
      ],
      "text/plain": [
       "                          leads\n",
       "cambio                         \n",
       "CVT                    8.595801\n",
       "automatizado           6.010638\n",
       "automatizado DCT       5.285714\n",
       "automatico             4.315963\n",
       "manual                 2.986718\n",
       "semi-automatico        2.258929\n",
       "automatico sequencial  0.250000"
      ]
     },
     "execution_count": 100,
     "metadata": {},
     "output_type": "execute_result"
    }
   ],
   "source": [
    "# Agrupando a por câmbio\n",
    "df_cambio = df_cat.groupby('cambio').agg({'leads':'mean'}).sort_values('leads', ascending = False)\n",
    "df_cambio"
   ]
  },
  {
   "cell_type": "code",
   "execution_count": 102,
   "metadata": {},
   "outputs": [
    {
     "data": {
      "image/png": "[encoded data removed]",
      "text/plain": [
       "<Figure size 1152x576 with 1 Axes>"
      ]
     },
     "metadata": {
      "needs_background": "light"
     },
     "output_type": "display_data"
    }
   ],
   "source": [
    "# Barplot da Média do número de leads por estado\n",
    "plt.figure(figsize = (16,8))\n",
    "\n",
    "sns.barplot(data = df_cambio, x = df_cambio.index, y = df_cambio.leads, palette = 'magma')\n",
    "plt.title('Média de leads por Tipo de Câmbio', fontdict = {'fontsize': 16}, weight = 'bold')\n",
    "plt.xlabel('Tipos de Câmbio', fontdict = {'fontsize': 12})\n",
    "plt.ylabel('Média de leads', fontdict = {'fontsize': 12})\n",
    "plt.show()"
   ]
  },
  {
   "cell_type": "markdown",
   "metadata": {},
   "source": [
    "> Vemos que carros com câmbio do tipo CVT são os que mais recebem 'leads', seguido por automatizado e automatizado DCT.  \n",
    "> No entanto, esses três tipos de câmbios não são tão populares entre os anúncios de carros.  \n",
    "> Os tipos de câmbios mais populares (automático e manual) têm média de aproximadamente 4.3 e 3(respectivamente) leads por anúncios."
   ]
  },
  {
   "cell_type": "markdown",
   "metadata": {},
   "source": [
    "### Prioridade"
   ]
  },
  {
   "cell_type": "code",
   "execution_count": 255,
   "metadata": {},
   "outputs": [
    {
     "data": {
      "text/plain": [
       "3    32452\n",
       "1     7048\n",
       "2     1822\n",
       "Name: prioridade, dtype: int64"
      ]
     },
     "execution_count": 255,
     "metadata": {},
     "output_type": "execute_result"
    }
   ],
   "source": [
    "# Quantidade de Anúncios Com Prioridade Baixa(3), Média(2) e Alta(1)\n",
    "df.prioridade.value_counts()"
   ]
  },
  {
   "cell_type": "code",
   "execution_count": 268,
   "metadata": {},
   "outputs": [],
   "source": [
    "df11 = df.copy()\n",
    "df11['prioridade'] = np.where((df11['prioridade'] == 1), 'Alta',\n",
    "                     np.where((df11['prioridade'] == 2), 'Media',\n",
    "                     np.where((df11['prioridade'] == 3), 'Baixa',\n",
    "                     0)))"
   ]
  },
  {
   "cell_type": "code",
   "execution_count": 277,
   "metadata": {},
   "outputs": [
    {
     "data": {
      "image/png": "[encoded data removed]",
      "text/plain": [
       "<Figure size 792x504 with 1 Axes>"
      ]
     },
     "metadata": {
      "needs_background": "light"
     },
     "output_type": "display_data"
    }
   ],
   "source": [
    "# Plot da quantidade de Anúncios por Prioridade\n",
    "plt.figure(figsize = (11,7))\n",
    "\n",
    "sns.countplot(x = df11.prioridade)\n",
    "plt.title('Quantidade de Anúncios por Prioridade',fontdict={'fontsize':16})\n",
    "plt.xlabel('Prioridade',fontdict={'fontsize':12})\n",
    "plt.show()"
   ]
  },
  {
   "cell_type": "code",
   "execution_count": 281,
   "metadata": {},
   "outputs": [
    {
     "data": {
      "text/html": [
       "<div>\n",
       "<style scoped>\n",
       "    .dataframe tbody tr th:only-of-type {\n",
       "        vertical-align: middle;\n",
       "    }\n",
       "\n",
       "    .dataframe tbody tr th {\n",
       "        vertical-align: top;\n",
       "    }\n",
       "\n",
       "    .dataframe thead th {\n",
       "        text-align: right;\n",
       "    }\n",
       "</style>\n",
       "<table border=\"1\" class=\"dataframe\">\n",
       "  <thead>\n",
       "    <tr style=\"text-align: right;\">\n",
       "      <th></th>\n",
       "      <th>leads</th>\n",
       "    </tr>\n",
       "    <tr>\n",
       "      <th>prioridade</th>\n",
       "      <th></th>\n",
       "    </tr>\n",
       "  </thead>\n",
       "  <tbody>\n",
       "    <tr>\n",
       "      <th>Media</th>\n",
       "      <td>8.285950</td>\n",
       "    </tr>\n",
       "    <tr>\n",
       "      <th>Alta</th>\n",
       "      <td>5.869750</td>\n",
       "    </tr>\n",
       "    <tr>\n",
       "      <th>Baixa</th>\n",
       "      <td>2.844293</td>\n",
       "    </tr>\n",
       "  </tbody>\n",
       "</table>\n",
       "</div>"
      ],
      "text/plain": [
       "               leads\n",
       "prioridade          \n",
       "Media       8.285950\n",
       "Alta        5.869750\n",
       "Baixa       2.844293"
      ]
     },
     "execution_count": 281,
     "metadata": {},
     "output_type": "execute_result"
    }
   ],
   "source": [
    "# Agrupando a por Prioridade (Baixa(3), Média(2) e Alta(1))\n",
    "df_prio = df11.groupby('prioridade').agg({'leads':'mean'}).sort_values('leads', ascending = False)\n",
    "df_prio"
   ]
  },
  {
   "cell_type": "code",
   "execution_count": 282,
   "metadata": {},
   "outputs": [
    {
     "data": {
      "image/png": "[encoded data removed]",
      "text/plain": [
       "<Figure size 792x504 with 1 Axes>"
      ]
     },
     "metadata": {
      "needs_background": "light"
     },
     "output_type": "display_data"
    }
   ],
   "source": [
    "# Plot da média de leads em anúncios divido por prioridade\n",
    "plt.figure(figsize = (11,7))\n",
    "\n",
    "sns.barplot(data = df_prio, x = df_prio.index, y = df_prio['leads'], palette = 'magma')\n",
    "plt.title('Média de leads por Prioridade', fontdict = {'fontsize': 16}, weight = 'bold')\n",
    "plt.xlabel('Prioridades', fontdict = {'fontsize': 12})\n",
    "plt.ylabel('Média de leads', fontdict = {'fontsize': 12})\n",
    "plt.show()"
   ]
  },
  {
   "cell_type": "markdown",
   "metadata": {},
   "source": [
    "> Anúncios com prioridade baixa costumam ter menos número de leads.  \n"
   ]
  },
  {
   "cell_type": "markdown",
   "metadata": {},
   "source": [
    "### cod_marca/versao/modelo_veiculo"
   ]
  },
  {
   "cell_type": "code",
   "execution_count": 283,
   "metadata": {},
   "outputs": [
    {
     "data": {
      "text/plain": [
       "cod_marca_veiculo       44\n",
       "cod_modelo_veiculo     428\n",
       "cod_versao_veiculo    2881\n",
       "dtype: int64"
      ]
     },
     "execution_count": 283,
     "metadata": {},
     "output_type": "execute_result"
    }
   ],
   "source": [
    "df[['cod_marca_veiculo','cod_modelo_veiculo','cod_versao_veiculo']].nunique()"
   ]
  },
  {
   "cell_type": "markdown",
   "metadata": {},
   "source": [
    "> Existem muitos modelos e versões de carros, e como eles estão representados por números, fica dificil conseguir relacioná-los em conjunto com o número de leads. Não conseguiriamos saber, por exemplo, se os 3 primeiros modelos de carros têm alguma relação entre si para inferir que 'x' modelo de carro tende a ter mais leads"
   ]
  },
  {
   "cell_type": "code",
   "execution_count": 285,
   "metadata": {},
   "outputs": [
    {
     "data": {
      "text/html": [
       "<div>\n",
       "<style scoped>\n",
       "    .dataframe tbody tr th:only-of-type {\n",
       "        vertical-align: middle;\n",
       "    }\n",
       "\n",
       "    .dataframe tbody tr th {\n",
       "        vertical-align: top;\n",
       "    }\n",
       "\n",
       "    .dataframe thead th {\n",
       "        text-align: right;\n",
       "    }\n",
       "</style>\n",
       "<table border=\"1\" class=\"dataframe\">\n",
       "  <thead>\n",
       "    <tr style=\"text-align: right;\">\n",
       "      <th></th>\n",
       "      <th>leads</th>\n",
       "    </tr>\n",
       "    <tr>\n",
       "      <th>cod_marca_veiculo</th>\n",
       "      <th></th>\n",
       "    </tr>\n",
       "  </thead>\n",
       "  <tbody>\n",
       "    <tr>\n",
       "      <th>2</th>\n",
       "      <td>3.201123</td>\n",
       "    </tr>\n",
       "    <tr>\n",
       "      <th>3</th>\n",
       "      <td>3.338371</td>\n",
       "    </tr>\n",
       "    <tr>\n",
       "      <th>4</th>\n",
       "      <td>2.582201</td>\n",
       "    </tr>\n",
       "    <tr>\n",
       "      <th>5</th>\n",
       "      <td>3.444425</td>\n",
       "    </tr>\n",
       "    <tr>\n",
       "      <th>8</th>\n",
       "      <td>5.038182</td>\n",
       "    </tr>\n",
       "  </tbody>\n",
       "</table>\n",
       "</div>"
      ],
      "text/plain": [
       "                      leads\n",
       "cod_marca_veiculo          \n",
       "2                  3.201123\n",
       "3                  3.338371\n",
       "4                  2.582201\n",
       "5                  3.444425\n",
       "8                  5.038182"
      ]
     },
     "execution_count": 285,
     "metadata": {},
     "output_type": "execute_result"
    }
   ],
   "source": [
    "# Relação da marca de veiculos com o número de leads\n",
    "df_marca = df.groupby('cod_marca_veiculo').agg({'leads':'mean'})\n",
    "df_marca.head()"
   ]
  },
  {
   "cell_type": "code",
   "execution_count": 287,
   "metadata": {},
   "outputs": [
    {
     "data": {
      "image/png": "[encoded data removed]",
      "text/plain": [
       "<Figure size 1728x720 with 1 Axes>"
      ]
     },
     "metadata": {
      "needs_background": "light"
     },
     "output_type": "display_data"
    }
   ],
   "source": [
    "# Plot da média de leads em anúncios divido por prioridade\n",
    "plt.figure(figsize = (24,10))\n",
    "\n",
    "sns.barplot(data = df_marca, x = df_marca.index, y = df_marca['leads'], palette = 'magma')\n",
    "plt.title('Média de leads por Marca do Veículo', fontdict = {'fontsize': 16}, weight = 'bold')\n",
    "plt.xlabel('Marca do Veículo', fontdict = {'fontsize': 12})\n",
    "plt.ylabel('Média de leads', fontdict = {'fontsize': 12})\n",
    "plt.show()"
   ]
  },
  {
   "cell_type": "markdown",
   "metadata": {},
   "source": [
    "> Conseguimos concluir que carros da marca 133 têm uma média de leads significantemente maior que seus concorrentes"
   ]
  },
  {
   "cell_type": "markdown",
   "metadata": {},
   "source": [
    "### Ano modelo"
   ]
  },
  {
   "cell_type": "code",
   "execution_count": 311,
   "metadata": {},
   "outputs": [
    {
     "data": {
      "text/plain": [
       "45"
      ]
     },
     "execution_count": 311,
     "metadata": {},
     "output_type": "execute_result"
    }
   ],
   "source": [
    "# Verificando a quantidade de anúncios com diferentes anos de veículos\n",
    "df.ano_modelo.nunique()"
   ]
  },
  {
   "cell_type": "code",
   "execution_count": 315,
   "metadata": {},
   "outputs": [
    {
     "data": {
      "text/plain": [
       "2015    5819\n",
       "2014    5413\n",
       "2016    4780\n",
       "2013    4637\n",
       "2017    4056\n",
       "2012    3581\n",
       "2018    3568\n",
       "2011    2750\n",
       "2010    1965\n",
       "2009    1393\n",
       "Name: ano_modelo, dtype: int64"
      ]
     },
     "execution_count": 315,
     "metadata": {},
     "output_type": "execute_result"
    }
   ],
   "source": [
    "df.ano_modelo.value_counts()[:10]"
   ]
  },
  {
   "cell_type": "code",
   "execution_count": 332,
   "metadata": {},
   "outputs": [
    {
     "data": {
      "text/plain": [
       "<matplotlib.axes._subplots.AxesSubplot at 0x123077a2588>"
      ]
     },
     "execution_count": 332,
     "metadata": {},
     "output_type": "execute_result"
    },
    {
     "data": {
      "image/png": "[encoded data removed]",
      "text/plain": [
       "<Figure size 792x504 with 1 Axes>"
      ]
     },
     "metadata": {},
     "output_type": "display_data"
    }
   ],
   "source": [
    "df.ano_modelo.value_counts().plot(kind = 'pie', figsize = (11,7), title = 'Número de Anúncios por ano', startangle= 90)"
   ]
  },
  {
   "cell_type": "markdown",
   "metadata": {},
   "source": [
    "> Possível ver que apesar de haver carros com modelos de 45 anos diferentes, carros com ano de 2012 a 2018 (7 anos) representam mais de 75% de todos os anúncios"
   ]
  },
  {
   "cell_type": "code",
   "execution_count": 331,
   "metadata": {},
   "outputs": [
    {
     "data": {
      "text/html": [
       "<div>\n",
       "<style scoped>\n",
       "    .dataframe tbody tr th:only-of-type {\n",
       "        vertical-align: middle;\n",
       "    }\n",
       "\n",
       "    .dataframe tbody tr th {\n",
       "        vertical-align: top;\n",
       "    }\n",
       "\n",
       "    .dataframe thead th {\n",
       "        text-align: right;\n",
       "    }\n",
       "</style>\n",
       "<table border=\"1\" class=\"dataframe\">\n",
       "  <thead>\n",
       "    <tr style=\"text-align: right;\">\n",
       "      <th></th>\n",
       "      <th>leads</th>\n",
       "    </tr>\n",
       "    <tr>\n",
       "      <th>ano_modelo</th>\n",
       "      <th></th>\n",
       "    </tr>\n",
       "  </thead>\n",
       "  <tbody>\n",
       "    <tr>\n",
       "      <th>2019</th>\n",
       "      <td>2.725490</td>\n",
       "    </tr>\n",
       "    <tr>\n",
       "      <th>2018</th>\n",
       "      <td>3.019619</td>\n",
       "    </tr>\n",
       "    <tr>\n",
       "      <th>2017</th>\n",
       "      <td>3.386834</td>\n",
       "    </tr>\n",
       "    <tr>\n",
       "      <th>2016</th>\n",
       "      <td>3.039331</td>\n",
       "    </tr>\n",
       "    <tr>\n",
       "      <th>2015</th>\n",
       "      <td>3.441657</td>\n",
       "    </tr>\n",
       "    <tr>\n",
       "      <th>2014</th>\n",
       "      <td>3.595788</td>\n",
       "    </tr>\n",
       "    <tr>\n",
       "      <th>2013</th>\n",
       "      <td>3.773992</td>\n",
       "    </tr>\n",
       "    <tr>\n",
       "      <th>2012</th>\n",
       "      <td>3.759844</td>\n",
       "    </tr>\n",
       "  </tbody>\n",
       "</table>\n",
       "</div>"
      ],
      "text/plain": [
       "               leads\n",
       "ano_modelo          \n",
       "2019        2.725490\n",
       "2018        3.019619\n",
       "2017        3.386834\n",
       "2016        3.039331\n",
       "2015        3.441657\n",
       "2014        3.595788\n",
       "2013        3.773992\n",
       "2012        3.759844"
      ]
     },
     "execution_count": 331,
     "metadata": {},
     "output_type": "execute_result"
    }
   ],
   "source": [
    "# Relação dos carros de 2012 a 2018 com a variável target leads\n",
    "df_ano = df.groupby('ano_modelo').agg({'leads':'mean'})\n",
    "df_ano = df_ano.sort_values('ano_modelo', ascending= False)[:8]\n",
    "df_ano"
   ]
  },
  {
   "cell_type": "code",
   "execution_count": 333,
   "metadata": {},
   "outputs": [
    {
     "data": {
      "image/png": "[encoded data removed]",
      "text/plain": [
       "<Figure size 792x504 with 1 Axes>"
      ]
     },
     "metadata": {
      "needs_background": "light"
     },
     "output_type": "display_data"
    }
   ],
   "source": [
    "# Plot da média de leads em anúncios divido por prioridade\n",
    "plt.figure(figsize = (11,7))\n",
    "\n",
    "sns.barplot(data = df_ano, x = df_ano.index, y = df_ano['leads'], palette = 'magma')\n",
    "plt.title('Média de leads por Prioridade', fontdict = {'fontsize': 16}, weight = 'bold')\n",
    "plt.xlabel('Prioridades', fontdict = {'fontsize': 12})\n",
    "plt.ylabel('Média de leads', fontdict = {'fontsize': 12})\n",
    "plt.show()"
   ]
  },
  {
   "cell_type": "markdown",
   "metadata": {},
   "source": [
    "> Com exceção do ano de 2017, a média de leads dos anúncios de carro com modelo a partir de 2012 (até 2019) tendem a diminuir com o passar dos anos.  \n",
    "> No entanto, a diferença é muito pequena."
   ]
  },
  {
   "cell_type": "markdown",
   "metadata": {},
   "source": [
    "### Portas"
   ]
  },
  {
   "cell_type": "markdown",
   "metadata": {},
   "source": [
    "### Variáveis Binárias"
   ]
  },
  {
   "cell_type": "code",
   "execution_count": 35,
   "metadata": {},
   "outputs": [
    {
     "data": {
      "image/png": "[encoded data removed]",
      "text/plain": [
       "<Figure size 1728x1152 with 12 Axes>"
      ]
     },
     "metadata": {
      "needs_background": "light"
     },
     "output_type": "display_data"
    }
   ],
   "source": [
    "# Visualização das das variáveis 'categóricas' binárias\n",
    "plt.figure(figsize = (24,16))\n",
    "\n",
    "for i in range(3, len(obj_list)):\n",
    "    plt.subplot(3,4, i+1-3)\n",
    "\n",
    "    sns.countplot(data = df, x = df[obj_list[i]], palette=  ['green','red'])\n",
    "    plt.title(f'Contagem de Anúncios de Carros com {obj_list[i]}', fontdict={'fontsize':12})"
   ]
  },
  {
   "cell_type": "code",
   "execution_count": null,
   "metadata": {},
   "outputs": [],
   "source": [
    "# Outras variáveis binárias\n",
    "df_cat_bi2 = df[['leads','flg_unico_dono', 'flg_licenciado', 'flg_ipva_pago','flg_todas_revisoes_concessionaria','flg_todas_revisoes_agenda_veiculo',\n",
    "                 'flg_garantia_fabrica','flg_blindado', 'flg_aceita_troca', 'flg_adaptado_pcd']]"
   ]
  },
  {
   "cell_type": "code",
   "execution_count": 113,
   "metadata": {},
   "outputs": [
    {
     "data": {
      "image/png": "[encoded data removed]",
      "text/plain": [
       "<Figure size 1728x1152 with 9 Axes>"
      ]
     },
     "metadata": {
      "needs_background": "light"
     },
     "output_type": "display_data"
    }
   ],
   "source": [
    "# Visualização dos restante das variáveis 'categóricas' binárias\n",
    "plt.figure(figsize = (24,16))\n",
    "\n",
    "for i in range(1, len(df_cat_bi2.columns)):\n",
    "    plt.subplot(3,3, i)\n",
    "\n",
    "    sns.countplot(data = df, x = df[df_cat_bi2.columns[i]], palette =  ['green','red'])\n",
    "    plt.title(f'Contagem de Anúncios de Carros com {df_cat_bi2.columns[i]}', fontdict={'fontsize':12})"
   ]
  },
  {
   "cell_type": "markdown",
   "metadata": {},
   "source": [
    "No entanto, ainda faltaram algumas variáveis nessa mapa de calor, que estão representadas por S e N (para Sim e Não).  \n",
    "Vamos transformá-las em 1 e 0 (S=1, N=0)"
   ]
  },
  {
   "cell_type": "code",
   "execution_count": 39,
   "metadata": {},
   "outputs": [],
   "source": [
    "df_cat_bi = df_cat[['alarme', 'airbag', 'arquente', 'bancocouro', 'arcondic', 'abs',\n",
    "        'desembtras', 'travaeletr', 'vidroseletr', 'rodasliga', 'sensorchuva', 'sensorestacion']]"
   ]
  },
  {
   "cell_type": "code",
   "execution_count": 115,
   "metadata": {},
   "outputs": [],
   "source": [
    "# for i in range(0, len(df_cat_bi.columns)):\n",
    "    \n",
    "#     df_cat_bi[(df_cat_bi.columns[i])] = np.where(df_cat_bi[df_cat_bi.columns[i]] == 'S', 1, 0)"
   ]
  },
  {
   "cell_type": "markdown",
   "metadata": {},
   "source": [
    "### Feature Engineer"
   ]
  },
  {
   "cell_type": "markdown",
   "metadata": {},
   "source": [
    "* Separando a coluna 'uf_cidade' em duas ('uf', 'cidade')"
   ]
  },
  {
   "cell_type": "code",
   "execution_count": 44,
   "metadata": {},
   "outputs": [
    {
     "data": {
      "text/plain": [
       "2                       SP_PoÃ¡\n",
       "3                 SP_SÃ£o Paulo\n",
       "4     SP_SÃ£o Bernardo do Campo\n",
       "9      SP_SÃ£o JosÃ© dos Campos\n",
       "21    SP_SÃ£o Bernardo do Campo\n",
       "Name: uf_cidade, dtype: object"
      ]
     },
     "execution_count": 44,
     "metadata": {},
     "output_type": "execute_result"
    }
   ],
   "source": [
    "# Podemos separar a variável uf_cidade em duas colunas (uf, cidade)\n",
    "df.uf_cidade.head()"
   ]
  },
  {
   "cell_type": "code",
   "execution_count": 45,
   "metadata": {},
   "outputs": [],
   "source": [
    "# Separando a coluna uf_cidade em 'uf' e 'cidade'\n",
    "df[['uf', 'cidade']] = df.uf_cidade.str.split('_', expand = True)"
   ]
  },
  {
   "cell_type": "code",
   "execution_count": 46,
   "metadata": {},
   "outputs": [],
   "source": [
    "# Reposicionando as colunas 'uf' e 'cidade'\n",
    "df.insert(12, 'uf', df.pop('uf'))\n",
    "df.insert(13, 'cidade', df.pop('cidade'))"
   ]
  },
  {
   "cell_type": "code",
   "execution_count": 47,
   "metadata": {},
   "outputs": [
    {
     "data": {
      "text/plain": [
       "2                          SP_PoÃ¡\n",
       "3                    SP_SÃ£o Paulo\n",
       "4        SP_SÃ£o Bernardo do Campo\n",
       "9         SP_SÃ£o JosÃ© dos Campos\n",
       "21       SP_SÃ£o Bernardo do Campo\n",
       "                   ...            \n",
       "42152                SP_SÃ£o Paulo\n",
       "42153                    SP_AvarÃ©\n",
       "42154                SP_SÃ£o Paulo\n",
       "42155                SP_SÃ£o Paulo\n",
       "42156                SP_SÃ£o Paulo\n",
       "Name: uf_cidade, Length: 41322, dtype: object"
      ]
     },
     "execution_count": 47,
     "metadata": {},
     "output_type": "execute_result"
    }
   ],
   "source": [
    "# Removendo a coluna uf_cidade\n",
    "df.pop('uf_cidade')"
   ]
  },
  {
   "cell_type": "code",
   "execution_count": 48,
   "metadata": {},
   "outputs": [
    {
     "data": {
      "text/html": [
       "<div>\n",
       "<style scoped>\n",
       "    .dataframe tbody tr th:only-of-type {\n",
       "        vertical-align: middle;\n",
       "    }\n",
       "\n",
       "    .dataframe tbody tr th {\n",
       "        vertical-align: top;\n",
       "    }\n",
       "\n",
       "    .dataframe thead th {\n",
       "        text-align: right;\n",
       "    }\n",
       "</style>\n",
       "<table border=\"1\" class=\"dataframe\">\n",
       "  <thead>\n",
       "    <tr style=\"text-align: right;\">\n",
       "      <th></th>\n",
       "      <th>cod_anuncio</th>\n",
       "      <th>cod_cliente</th>\n",
       "      <th>cod_tipo_pessoa</th>\n",
       "      <th>prioridade</th>\n",
       "      <th>leads</th>\n",
       "      <th>views</th>\n",
       "      <th>cliques_telefone*</th>\n",
       "      <th>cod_marca_veiculo</th>\n",
       "      <th>cod_modelo_veiculo</th>\n",
       "      <th>cod_versao_veiculo</th>\n",
       "      <th>ano_modelo</th>\n",
       "      <th>cep_2dig</th>\n",
       "      <th>uf</th>\n",
       "      <th>cidade</th>\n",
       "      <th>vlr_anuncio</th>\n",
       "      <th>qtd_fotos</th>\n",
       "      <th>km_veiculo</th>\n",
       "      <th>vlr_mercado</th>\n",
       "      <th>flg_unico_dono</th>\n",
       "      <th>flg_licenciado</th>\n",
       "      <th>flg_ipva_pago</th>\n",
       "      <th>flg_todas_revisoes_concessionaria</th>\n",
       "      <th>flg_todas_revisoes_agenda_veiculo</th>\n",
       "      <th>flg_garantia_fabrica</th>\n",
       "      <th>flg_blindado</th>\n",
       "      <th>flg_aceita_troca</th>\n",
       "      <th>flg_adaptado_pcd</th>\n",
       "      <th>combustivel</th>\n",
       "      <th>cambio</th>\n",
       "      <th>portas</th>\n",
       "      <th>alarme</th>\n",
       "      <th>airbag</th>\n",
       "      <th>arquente</th>\n",
       "      <th>bancocouro</th>\n",
       "      <th>arcondic</th>\n",
       "      <th>abs</th>\n",
       "      <th>desembtras</th>\n",
       "      <th>travaeletr</th>\n",
       "      <th>vidroseletr</th>\n",
       "      <th>rodasliga</th>\n",
       "      <th>sensorchuva</th>\n",
       "      <th>sensorestacion</th>\n",
       "    </tr>\n",
       "  </thead>\n",
       "  <tbody>\n",
       "    <tr>\n",
       "      <th>2</th>\n",
       "      <td>95</td>\n",
       "      <td>16462</td>\n",
       "      <td>1</td>\n",
       "      <td>1</td>\n",
       "      <td>0</td>\n",
       "      <td>0</td>\n",
       "      <td>6</td>\n",
       "      <td>12</td>\n",
       "      <td>2722</td>\n",
       "      <td>342061</td>\n",
       "      <td>2010</td>\n",
       "      <td>8</td>\n",
       "      <td>SP</td>\n",
       "      <td>PoÃ¡</td>\n",
       "      <td>31900.0</td>\n",
       "      <td>8</td>\n",
       "      <td>74000</td>\n",
       "      <td>26875.00573</td>\n",
       "      <td>1</td>\n",
       "      <td>1</td>\n",
       "      <td>1.0</td>\n",
       "      <td>1.0</td>\n",
       "      <td>0</td>\n",
       "      <td>1.0</td>\n",
       "      <td>0</td>\n",
       "      <td>1</td>\n",
       "      <td>0.0</td>\n",
       "      <td>gasolina e alcool</td>\n",
       "      <td>automatico sequencial</td>\n",
       "      <td>4.0</td>\n",
       "      <td>S</td>\n",
       "      <td>S</td>\n",
       "      <td>S</td>\n",
       "      <td>S</td>\n",
       "      <td>S</td>\n",
       "      <td>S</td>\n",
       "      <td>S</td>\n",
       "      <td>S</td>\n",
       "      <td>S</td>\n",
       "      <td>S</td>\n",
       "      <td>S</td>\n",
       "      <td>S</td>\n",
       "    </tr>\n",
       "    <tr>\n",
       "      <th>3</th>\n",
       "      <td>110</td>\n",
       "      <td>1987</td>\n",
       "      <td>1</td>\n",
       "      <td>1</td>\n",
       "      <td>0</td>\n",
       "      <td>0</td>\n",
       "      <td>2</td>\n",
       "      <td>2</td>\n",
       "      <td>1161</td>\n",
       "      <td>339241</td>\n",
       "      <td>2009</td>\n",
       "      <td>1</td>\n",
       "      <td>SP</td>\n",
       "      <td>SÃ£o Paulo</td>\n",
       "      <td>25500.0</td>\n",
       "      <td>8</td>\n",
       "      <td>128000</td>\n",
       "      <td>23779.45322</td>\n",
       "      <td>0</td>\n",
       "      <td>1</td>\n",
       "      <td>1.0</td>\n",
       "      <td>0.0</td>\n",
       "      <td>0</td>\n",
       "      <td>0.0</td>\n",
       "      <td>0</td>\n",
       "      <td>1</td>\n",
       "      <td>0.0</td>\n",
       "      <td>gasolina e alcool</td>\n",
       "      <td>automatico</td>\n",
       "      <td>4.0</td>\n",
       "      <td>S</td>\n",
       "      <td>S</td>\n",
       "      <td>S</td>\n",
       "      <td>N</td>\n",
       "      <td>S</td>\n",
       "      <td>S</td>\n",
       "      <td>S</td>\n",
       "      <td>S</td>\n",
       "      <td>S</td>\n",
       "      <td>N</td>\n",
       "      <td>N</td>\n",
       "      <td>N</td>\n",
       "    </tr>\n",
       "    <tr>\n",
       "      <th>4</th>\n",
       "      <td>117</td>\n",
       "      <td>18367</td>\n",
       "      <td>1</td>\n",
       "      <td>1</td>\n",
       "      <td>0</td>\n",
       "      <td>0</td>\n",
       "      <td>10</td>\n",
       "      <td>3</td>\n",
       "      <td>687</td>\n",
       "      <td>344077</td>\n",
       "      <td>2010</td>\n",
       "      <td>9</td>\n",
       "      <td>SP</td>\n",
       "      <td>SÃ£o Bernardo do Campo</td>\n",
       "      <td>23990.0</td>\n",
       "      <td>6</td>\n",
       "      <td>60000</td>\n",
       "      <td>22428.12461</td>\n",
       "      <td>1</td>\n",
       "      <td>1</td>\n",
       "      <td>1.0</td>\n",
       "      <td>0.0</td>\n",
       "      <td>0</td>\n",
       "      <td>0.0</td>\n",
       "      <td>0</td>\n",
       "      <td>1</td>\n",
       "      <td>0.0</td>\n",
       "      <td>gasolina e alcool</td>\n",
       "      <td>manual</td>\n",
       "      <td>4.0</td>\n",
       "      <td>N</td>\n",
       "      <td>N</td>\n",
       "      <td>S</td>\n",
       "      <td>N</td>\n",
       "      <td>S</td>\n",
       "      <td>N</td>\n",
       "      <td>S</td>\n",
       "      <td>S</td>\n",
       "      <td>S</td>\n",
       "      <td>S</td>\n",
       "      <td>N</td>\n",
       "      <td>N</td>\n",
       "    </tr>\n",
       "    <tr>\n",
       "      <th>9</th>\n",
       "      <td>200</td>\n",
       "      <td>16006</td>\n",
       "      <td>1</td>\n",
       "      <td>1</td>\n",
       "      <td>0</td>\n",
       "      <td>0</td>\n",
       "      <td>13</td>\n",
       "      <td>2</td>\n",
       "      <td>2950</td>\n",
       "      <td>342268</td>\n",
       "      <td>2012</td>\n",
       "      <td>12</td>\n",
       "      <td>SP</td>\n",
       "      <td>SÃ£o JosÃ© dos Campos</td>\n",
       "      <td>44000.0</td>\n",
       "      <td>5</td>\n",
       "      <td>140000</td>\n",
       "      <td>45785.57787</td>\n",
       "      <td>1</td>\n",
       "      <td>1</td>\n",
       "      <td>1.0</td>\n",
       "      <td>1.0</td>\n",
       "      <td>1</td>\n",
       "      <td>1.0</td>\n",
       "      <td>0</td>\n",
       "      <td>0</td>\n",
       "      <td>0.0</td>\n",
       "      <td>gasolina</td>\n",
       "      <td>automatico</td>\n",
       "      <td>4.0</td>\n",
       "      <td>S</td>\n",
       "      <td>S</td>\n",
       "      <td>S</td>\n",
       "      <td>S</td>\n",
       "      <td>S</td>\n",
       "      <td>S</td>\n",
       "      <td>S</td>\n",
       "      <td>S</td>\n",
       "      <td>S</td>\n",
       "      <td>S</td>\n",
       "      <td>N</td>\n",
       "      <td>N</td>\n",
       "    </tr>\n",
       "    <tr>\n",
       "      <th>21</th>\n",
       "      <td>303</td>\n",
       "      <td>80</td>\n",
       "      <td>1</td>\n",
       "      <td>3</td>\n",
       "      <td>0</td>\n",
       "      <td>0</td>\n",
       "      <td>8</td>\n",
       "      <td>3</td>\n",
       "      <td>1146</td>\n",
       "      <td>339886</td>\n",
       "      <td>2008</td>\n",
       "      <td>9</td>\n",
       "      <td>SP</td>\n",
       "      <td>SÃ£o Bernardo do Campo</td>\n",
       "      <td>18800.0</td>\n",
       "      <td>7</td>\n",
       "      <td>155000</td>\n",
       "      <td>20273.00157</td>\n",
       "      <td>0</td>\n",
       "      <td>1</td>\n",
       "      <td>1.0</td>\n",
       "      <td>0.0</td>\n",
       "      <td>0</td>\n",
       "      <td>0.0</td>\n",
       "      <td>0</td>\n",
       "      <td>0</td>\n",
       "      <td>0.0</td>\n",
       "      <td>gasolina e alcool</td>\n",
       "      <td>manual</td>\n",
       "      <td>4.0</td>\n",
       "      <td>S</td>\n",
       "      <td>N</td>\n",
       "      <td>S</td>\n",
       "      <td>N</td>\n",
       "      <td>S</td>\n",
       "      <td>N</td>\n",
       "      <td>S</td>\n",
       "      <td>S</td>\n",
       "      <td>S</td>\n",
       "      <td>N</td>\n",
       "      <td>N</td>\n",
       "      <td>N</td>\n",
       "    </tr>\n",
       "  </tbody>\n",
       "</table>\n",
       "</div>"
      ],
      "text/plain": [
       "    cod_anuncio  cod_cliente  cod_tipo_pessoa  prioridade  leads  views  \\\n",
       "2            95        16462                1           1      0      0   \n",
       "3           110         1987                1           1      0      0   \n",
       "4           117        18367                1           1      0      0   \n",
       "9           200        16006                1           1      0      0   \n",
       "21          303           80                1           3      0      0   \n",
       "\n",
       "    cliques_telefone*  cod_marca_veiculo  cod_modelo_veiculo  \\\n",
       "2                   6                 12                2722   \n",
       "3                   2                  2                1161   \n",
       "4                  10                  3                 687   \n",
       "9                  13                  2                2950   \n",
       "21                  8                  3                1146   \n",
       "\n",
       "    cod_versao_veiculo  ano_modelo  cep_2dig  uf                  cidade  \\\n",
       "2               342061        2010         8  SP                    PoÃ¡   \n",
       "3               339241        2009         1  SP              SÃ£o Paulo   \n",
       "4               344077        2010         9  SP  SÃ£o Bernardo do Campo   \n",
       "9               342268        2012        12  SP   SÃ£o JosÃ© dos Campos   \n",
       "21              339886        2008         9  SP  SÃ£o Bernardo do Campo   \n",
       "\n",
       "    vlr_anuncio  qtd_fotos  km_veiculo  vlr_mercado  flg_unico_dono  \\\n",
       "2       31900.0          8       74000  26875.00573               1   \n",
       "3       25500.0          8      128000  23779.45322               0   \n",
       "4       23990.0          6       60000  22428.12461               1   \n",
       "9       44000.0          5      140000  45785.57787               1   \n",
       "21      18800.0          7      155000  20273.00157               0   \n",
       "\n",
       "    flg_licenciado  flg_ipva_pago  flg_todas_revisoes_concessionaria  \\\n",
       "2                1            1.0                                1.0   \n",
       "3                1            1.0                                0.0   \n",
       "4                1            1.0                                0.0   \n",
       "9                1            1.0                                1.0   \n",
       "21               1            1.0                                0.0   \n",
       "\n",
       "    flg_todas_revisoes_agenda_veiculo  flg_garantia_fabrica  flg_blindado  \\\n",
       "2                                   0                   1.0             0   \n",
       "3                                   0                   0.0             0   \n",
       "4                                   0                   0.0             0   \n",
       "9                                   1                   1.0             0   \n",
       "21                                  0                   0.0             0   \n",
       "\n",
       "    flg_aceita_troca  flg_adaptado_pcd        combustivel  \\\n",
       "2                  1               0.0  gasolina e alcool   \n",
       "3                  1               0.0  gasolina e alcool   \n",
       "4                  1               0.0  gasolina e alcool   \n",
       "9                  0               0.0           gasolina   \n",
       "21                 0               0.0  gasolina e alcool   \n",
       "\n",
       "                   cambio  portas alarme airbag arquente bancocouro arcondic  \\\n",
       "2   automatico sequencial     4.0      S      S        S          S        S   \n",
       "3              automatico     4.0      S      S        S          N        S   \n",
       "4                  manual     4.0      N      N        S          N        S   \n",
       "9              automatico     4.0      S      S        S          S        S   \n",
       "21                 manual     4.0      S      N        S          N        S   \n",
       "\n",
       "   abs desembtras travaeletr vidroseletr rodasliga sensorchuva sensorestacion  \n",
       "2    S          S          S           S         S           S              S  \n",
       "3    S          S          S           S         N           N              N  \n",
       "4    N          S          S           S         S           N              N  \n",
       "9    S          S          S           S         S           N              N  \n",
       "21   N          S          S           S         N           N              N  "
      ]
     },
     "execution_count": 48,
     "metadata": {},
     "output_type": "execute_result"
    }
   ],
   "source": [
    "df.head()"
   ]
  },
  {
   "cell_type": "markdown",
   "metadata": {},
   "source": [
    "### Variável uf"
   ]
  },
  {
   "cell_type": "code",
   "execution_count": 208,
   "metadata": {},
   "outputs": [
    {
     "data": {
      "text/html": [
       "<div>\n",
       "<style scoped>\n",
       "    .dataframe tbody tr th:only-of-type {\n",
       "        vertical-align: middle;\n",
       "    }\n",
       "\n",
       "    .dataframe tbody tr th {\n",
       "        vertical-align: top;\n",
       "    }\n",
       "\n",
       "    .dataframe thead th {\n",
       "        text-align: right;\n",
       "    }\n",
       "</style>\n",
       "<table border=\"1\" class=\"dataframe\">\n",
       "  <thead>\n",
       "    <tr style=\"text-align: right;\">\n",
       "      <th></th>\n",
       "      <th>contagem</th>\n",
       "    </tr>\n",
       "    <tr>\n",
       "      <th>uf</th>\n",
       "      <th></th>\n",
       "    </tr>\n",
       "  </thead>\n",
       "  <tbody>\n",
       "    <tr>\n",
       "      <th>SP</th>\n",
       "      <td>19069</td>\n",
       "    </tr>\n",
       "    <tr>\n",
       "      <th>PR</th>\n",
       "      <td>3988</td>\n",
       "    </tr>\n",
       "    <tr>\n",
       "      <th>SC</th>\n",
       "      <td>3524</td>\n",
       "    </tr>\n",
       "    <tr>\n",
       "      <th>RJ</th>\n",
       "      <td>3070</td>\n",
       "    </tr>\n",
       "    <tr>\n",
       "      <th>MG</th>\n",
       "      <td>2651</td>\n",
       "    </tr>\n",
       "    <tr>\n",
       "      <th>RS</th>\n",
       "      <td>2206</td>\n",
       "    </tr>\n",
       "    <tr>\n",
       "      <th>DF</th>\n",
       "      <td>1483</td>\n",
       "    </tr>\n",
       "    <tr>\n",
       "      <th>GO</th>\n",
       "      <td>744</td>\n",
       "    </tr>\n",
       "    <tr>\n",
       "      <th>PE</th>\n",
       "      <td>685</td>\n",
       "    </tr>\n",
       "    <tr>\n",
       "      <th>BA</th>\n",
       "      <td>551</td>\n",
       "    </tr>\n",
       "    <tr>\n",
       "      <th>MS</th>\n",
       "      <td>506</td>\n",
       "    </tr>\n",
       "    <tr>\n",
       "      <th>RN</th>\n",
       "      <td>495</td>\n",
       "    </tr>\n",
       "    <tr>\n",
       "      <th>CE</th>\n",
       "      <td>473</td>\n",
       "    </tr>\n",
       "    <tr>\n",
       "      <th>ES</th>\n",
       "      <td>421</td>\n",
       "    </tr>\n",
       "    <tr>\n",
       "      <th>MT</th>\n",
       "      <td>335</td>\n",
       "    </tr>\n",
       "    <tr>\n",
       "      <th>PB</th>\n",
       "      <td>215</td>\n",
       "    </tr>\n",
       "    <tr>\n",
       "      <th>MA</th>\n",
       "      <td>184</td>\n",
       "    </tr>\n",
       "    <tr>\n",
       "      <th>PA</th>\n",
       "      <td>147</td>\n",
       "    </tr>\n",
       "    <tr>\n",
       "      <th>AM</th>\n",
       "      <td>139</td>\n",
       "    </tr>\n",
       "    <tr>\n",
       "      <th>PI</th>\n",
       "      <td>123</td>\n",
       "    </tr>\n",
       "    <tr>\n",
       "      <th>SE</th>\n",
       "      <td>107</td>\n",
       "    </tr>\n",
       "    <tr>\n",
       "      <th>RO</th>\n",
       "      <td>88</td>\n",
       "    </tr>\n",
       "    <tr>\n",
       "      <th>AL</th>\n",
       "      <td>60</td>\n",
       "    </tr>\n",
       "    <tr>\n",
       "      <th>AC</th>\n",
       "      <td>21</td>\n",
       "    </tr>\n",
       "    <tr>\n",
       "      <th>AP</th>\n",
       "      <td>16</td>\n",
       "    </tr>\n",
       "    <tr>\n",
       "      <th>RR</th>\n",
       "      <td>13</td>\n",
       "    </tr>\n",
       "    <tr>\n",
       "      <th>TO</th>\n",
       "      <td>8</td>\n",
       "    </tr>\n",
       "  </tbody>\n",
       "</table>\n",
       "</div>"
      ],
      "text/plain": [
       "    contagem\n",
       "uf          \n",
       "SP     19069\n",
       "PR      3988\n",
       "SC      3524\n",
       "RJ      3070\n",
       "MG      2651\n",
       "RS      2206\n",
       "DF      1483\n",
       "GO       744\n",
       "PE       685\n",
       "BA       551\n",
       "MS       506\n",
       "RN       495\n",
       "CE       473\n",
       "ES       421\n",
       "MT       335\n",
       "PB       215\n",
       "MA       184\n",
       "PA       147\n",
       "AM       139\n",
       "PI       123\n",
       "SE       107\n",
       "RO        88\n",
       "AL        60\n",
       "AC        21\n",
       "AP        16\n",
       "RR        13\n",
       "TO         8"
      ]
     },
     "execution_count": 208,
     "metadata": {},
     "output_type": "execute_result"
    }
   ],
   "source": [
    "# Contagem de aparições de cada estado no dataset\n",
    "df_uf_count = df.groupby('uf').agg({'uf':'count'})\n",
    "df_uf_count.rename(columns={'uf':'contagem'}, inplace = True)\n",
    "df_uf_count  = df_uf_count.sort_values('contagem', ascending= False)\n",
    "df_uf_count"
   ]
  },
  {
   "cell_type": "code",
   "execution_count": 209,
   "metadata": {},
   "outputs": [
    {
     "data": {
      "image/png": "[encoded data removed]",
      "text/plain": [
       "<Figure size 864x576 with 1 Axes>"
      ]
     },
     "metadata": {
      "needs_background": "light"
     },
     "output_type": "display_data"
    }
   ],
   "source": [
    "plt.figure(figsize = (12,8))\n",
    "\n",
    "sns.barplot(data = df_uf_count, x = df_uf_count.index, y = df_uf_count.contagem)\n",
    "plt.title('Quantidade de Anúncios em Cada Estado', fontdict={'fontsize': 18})\n",
    "plt.show()"
   ]
  },
  {
   "cell_type": "code",
   "execution_count": 49,
   "metadata": {},
   "outputs": [
    {
     "data": {
      "text/html": [
       "<div>\n",
       "<style scoped>\n",
       "    .dataframe tbody tr th:only-of-type {\n",
       "        vertical-align: middle;\n",
       "    }\n",
       "\n",
       "    .dataframe tbody tr th {\n",
       "        vertical-align: top;\n",
       "    }\n",
       "\n",
       "    .dataframe thead th {\n",
       "        text-align: right;\n",
       "    }\n",
       "</style>\n",
       "<table border=\"1\" class=\"dataframe\">\n",
       "  <thead>\n",
       "    <tr style=\"text-align: right;\">\n",
       "      <th></th>\n",
       "      <th>leads</th>\n",
       "    </tr>\n",
       "    <tr>\n",
       "      <th>uf</th>\n",
       "      <th></th>\n",
       "    </tr>\n",
       "  </thead>\n",
       "  <tbody>\n",
       "    <tr>\n",
       "      <th>SP</th>\n",
       "      <td>5.350097</td>\n",
       "    </tr>\n",
       "    <tr>\n",
       "      <th>AC</th>\n",
       "      <td>3.761905</td>\n",
       "    </tr>\n",
       "    <tr>\n",
       "      <th>RJ</th>\n",
       "      <td>3.246906</td>\n",
       "    </tr>\n",
       "    <tr>\n",
       "      <th>GO</th>\n",
       "      <td>2.563172</td>\n",
       "    </tr>\n",
       "    <tr>\n",
       "      <th>MG</th>\n",
       "      <td>2.507733</td>\n",
       "    </tr>\n",
       "  </tbody>\n",
       "</table>\n",
       "</div>"
      ],
      "text/plain": [
       "       leads\n",
       "uf          \n",
       "SP  5.350097\n",
       "AC  3.761905\n",
       "RJ  3.246906\n",
       "GO  2.563172\n",
       "MG  2.507733"
      ]
     },
     "execution_count": 49,
     "metadata": {},
     "output_type": "execute_result"
    }
   ],
   "source": [
    "# Agrupando o df por uf e extraindo a média de leads\n",
    "df_uf = df.groupby('uf').agg({'leads':'mean'}).sort_values('leads', ascending = False)\n",
    "df_uf.head()"
   ]
  },
  {
   "cell_type": "code",
   "execution_count": 50,
   "metadata": {},
   "outputs": [
    {
     "data": {
      "image/png": "[encoded data removed]",
      "text/plain": [
       "<Figure size 864x576 with 1 Axes>"
      ]
     },
     "metadata": {
      "needs_background": "light"
     },
     "output_type": "display_data"
    }
   ],
   "source": [
    "# Barplot da Média do número de leads por estado\n",
    "plt.figure(figsize = (12,8))\n",
    "\n",
    "sns.barplot(data = df_uf, x = df_uf.index, y = df_uf.leads, palette = 'magma')\n",
    "plt.title('Média de leads por Estado', fontdict = {'fontsize': 16}, weight = 'bold')\n",
    "plt.xlabel('Estados', fontdict = {'fontsize': 12})\n",
    "plt.ylabel('Média de leads', fontdict = {'fontsize': 12})\n",
    "plt.show()\n"
   ]
  },
  {
   "cell_type": "markdown",
   "metadata": {},
   "source": [
    "Podemos notar que anúncios de SP tem uma média de leads por anúncio significantemente maior que os outros estados.  \n",
    "Surpreendentemente, o estado do AC bem vem em segundo, com uma média de 3,76 leads por anúncio, seguidos por RJ, GO e MG."
   ]
  },
  {
   "cell_type": "markdown",
   "metadata": {},
   "source": [
    "No entanto, vale ressaltar que o estado de AC, apesar do alto número de leads por anúncio, possui pouquissima amostragem, com apenas 21 anuncios."
   ]
  },
  {
   "cell_type": "markdown",
   "metadata": {},
   "source": [
    "### Variável cidade"
   ]
  },
  {
   "cell_type": "code",
   "execution_count": 211,
   "metadata": {},
   "outputs": [
    {
     "data": {
      "text/html": [
       "<div>\n",
       "<style scoped>\n",
       "    .dataframe tbody tr th:only-of-type {\n",
       "        vertical-align: middle;\n",
       "    }\n",
       "\n",
       "    .dataframe tbody tr th {\n",
       "        vertical-align: top;\n",
       "    }\n",
       "\n",
       "    .dataframe thead th {\n",
       "        text-align: right;\n",
       "    }\n",
       "</style>\n",
       "<table border=\"1\" class=\"dataframe\">\n",
       "  <thead>\n",
       "    <tr style=\"text-align: right;\">\n",
       "      <th></th>\n",
       "      <th>contagem</th>\n",
       "    </tr>\n",
       "    <tr>\n",
       "      <th>cidade</th>\n",
       "      <th></th>\n",
       "    </tr>\n",
       "  </thead>\n",
       "  <tbody>\n",
       "    <tr>\n",
       "      <th>SÃ£o Paulo</th>\n",
       "      <td>7136</td>\n",
       "    </tr>\n",
       "    <tr>\n",
       "      <th>Rio de Janeiro</th>\n",
       "      <td>1841</td>\n",
       "    </tr>\n",
       "    <tr>\n",
       "      <th>Curitiba</th>\n",
       "      <td>1825</td>\n",
       "    </tr>\n",
       "    <tr>\n",
       "      <th>BrasÃ­lia</th>\n",
       "      <td>1477</td>\n",
       "    </tr>\n",
       "    <tr>\n",
       "      <th>Belo Horizonte</th>\n",
       "      <td>1183</td>\n",
       "    </tr>\n",
       "    <tr>\n",
       "      <th>...</th>\n",
       "      <td>...</td>\n",
       "    </tr>\n",
       "    <tr>\n",
       "      <th>Rio Brilhante</th>\n",
       "      <td>1</td>\n",
       "    </tr>\n",
       "    <tr>\n",
       "      <th>Cruz das Almas</th>\n",
       "      <td>1</td>\n",
       "    </tr>\n",
       "    <tr>\n",
       "      <th>Major Vieira</th>\n",
       "      <td>1</td>\n",
       "    </tr>\n",
       "    <tr>\n",
       "      <th>Coromandel</th>\n",
       "      <td>1</td>\n",
       "    </tr>\n",
       "    <tr>\n",
       "      <th>Ãlvares Machado</th>\n",
       "      <td>1</td>\n",
       "    </tr>\n",
       "  </tbody>\n",
       "</table>\n",
       "<p>843 rows × 1 columns</p>\n",
       "</div>"
      ],
      "text/plain": [
       "                  contagem\n",
       "cidade                    \n",
       "SÃ£o Paulo            7136\n",
       "Rio de Janeiro        1841\n",
       "Curitiba              1825\n",
       "BrasÃ­lia             1477\n",
       "Belo Horizonte        1183\n",
       "...                    ...\n",
       "Rio Brilhante            1\n",
       "Cruz das Almas           1\n",
       "Major Vieira             1\n",
       "Coromandel               1\n",
       "Ãlvares Machado         1\n",
       "\n",
       "[843 rows x 1 columns]"
      ]
     },
     "execution_count": 211,
     "metadata": {},
     "output_type": "execute_result"
    }
   ],
   "source": [
    "df_cid_count = df.groupby('cidade').agg({'cidade':'count'})\n",
    "df_cid_count.rename(columns={'cidade':'contagem'}, inplace = True)\n",
    "df_cid_count  = df_cid_count.sort_values('contagem', ascending= False)\n",
    "df_cid_count"
   ]
  },
  {
   "cell_type": "code",
   "execution_count": 215,
   "metadata": {},
   "outputs": [
    {
     "data": {
      "image/png": "[encoded data removed]",
      "text/plain": [
       "<Figure size 2448x576 with 1 Axes>"
      ]
     },
     "metadata": {
      "needs_background": "light"
     },
     "output_type": "display_data"
    }
   ],
   "source": [
    "# Plot do top 20 cidades com mais anúncios\n",
    "plt.figure(figsize = (34,8))\n",
    "\n",
    "sns.barplot(data = df_cid_count, x = df_cid_count.index[:20], y = df_cid_count.contagem[:20])\n",
    "plt.title('Quantidade de Anúncios em Cada Cidade', fontdict={'fontsize': 18})\n",
    "plt.show()\n"
   ]
  },
  {
   "cell_type": "code",
   "execution_count": 51,
   "metadata": {},
   "outputs": [
    {
     "data": {
      "text/html": [
       "<div>\n",
       "<style scoped>\n",
       "    .dataframe tbody tr th:only-of-type {\n",
       "        vertical-align: middle;\n",
       "    }\n",
       "\n",
       "    .dataframe tbody tr th {\n",
       "        vertical-align: top;\n",
       "    }\n",
       "\n",
       "    .dataframe thead th {\n",
       "        text-align: right;\n",
       "    }\n",
       "</style>\n",
       "<table border=\"1\" class=\"dataframe\">\n",
       "  <thead>\n",
       "    <tr style=\"text-align: right;\">\n",
       "      <th></th>\n",
       "      <th></th>\n",
       "      <th>leads</th>\n",
       "    </tr>\n",
       "    <tr>\n",
       "      <th>uf</th>\n",
       "      <th>cidade</th>\n",
       "      <th></th>\n",
       "    </tr>\n",
       "  </thead>\n",
       "  <tbody>\n",
       "    <tr>\n",
       "      <th rowspan=\"2\" valign=\"top\">SP</th>\n",
       "      <th>São Paulo</th>\n",
       "      <td>48.000</td>\n",
       "    </tr>\n",
       "    <tr>\n",
       "      <th>Jarinu</th>\n",
       "      <td>28.000</td>\n",
       "    </tr>\n",
       "    <tr>\n",
       "      <th>RJ</th>\n",
       "      <th>Japeri</th>\n",
       "      <td>28.000</td>\n",
       "    </tr>\n",
       "    <tr>\n",
       "      <th rowspan=\"2\" valign=\"top\">SP</th>\n",
       "      <th>Monte Mor</th>\n",
       "      <td>28.000</td>\n",
       "    </tr>\n",
       "    <tr>\n",
       "      <th>Nhandeara</th>\n",
       "      <td>20.125</td>\n",
       "    </tr>\n",
       "    <tr>\n",
       "      <th>...</th>\n",
       "      <th>...</th>\n",
       "      <td>...</td>\n",
       "    </tr>\n",
       "    <tr>\n",
       "      <th>CE</th>\n",
       "      <th>Caucaia</th>\n",
       "      <td>0.000</td>\n",
       "    </tr>\n",
       "    <tr>\n",
       "      <th>SP</th>\n",
       "      <th>CesÃ¡rio Lange</th>\n",
       "      <td>0.000</td>\n",
       "    </tr>\n",
       "    <tr>\n",
       "      <th rowspan=\"2\" valign=\"top\">BA</th>\n",
       "      <th>Valente</th>\n",
       "      <td>0.000</td>\n",
       "    </tr>\n",
       "    <tr>\n",
       "      <th>Serrinha</th>\n",
       "      <td>0.000</td>\n",
       "    </tr>\n",
       "    <tr>\n",
       "      <th>MG</th>\n",
       "      <th>Inhapim</th>\n",
       "      <td>0.000</td>\n",
       "    </tr>\n",
       "  </tbody>\n",
       "</table>\n",
       "<p>844 rows × 1 columns</p>\n",
       "</div>"
      ],
      "text/plain": [
       "                    leads\n",
       "uf cidade                \n",
       "SP São Paulo       48.000\n",
       "   Jarinu          28.000\n",
       "RJ Japeri          28.000\n",
       "SP Monte Mor       28.000\n",
       "   Nhandeara       20.125\n",
       "...                   ...\n",
       "CE Caucaia          0.000\n",
       "SP CesÃ¡rio Lange   0.000\n",
       "BA Valente          0.000\n",
       "   Serrinha         0.000\n",
       "MG Inhapim          0.000\n",
       "\n",
       "[844 rows x 1 columns]"
      ]
     },
     "execution_count": 51,
     "metadata": {},
     "output_type": "execute_result"
    }
   ],
   "source": [
    "# Agrupando o df por cidade(e uf, para conseguirmos saber de que estado é aquela cidade) e extraindo a média de leads\n",
    "df_cid = df.groupby(['uf','cidade']).agg({'leads':'mean'}).sort_values('leads', ascending= False)\n",
    "df_cid"
   ]
  },
  {
   "cell_type": "code",
   "execution_count": 52,
   "metadata": {},
   "outputs": [
    {
     "data": {
      "text/html": [
       "<div>\n",
       "<style scoped>\n",
       "    .dataframe tbody tr th:only-of-type {\n",
       "        vertical-align: middle;\n",
       "    }\n",
       "\n",
       "    .dataframe tbody tr th {\n",
       "        vertical-align: top;\n",
       "    }\n",
       "\n",
       "    .dataframe thead th {\n",
       "        text-align: right;\n",
       "    }\n",
       "</style>\n",
       "<table border=\"1\" class=\"dataframe\">\n",
       "  <thead>\n",
       "    <tr style=\"text-align: right;\">\n",
       "      <th></th>\n",
       "      <th>uf</th>\n",
       "      <th>cidade</th>\n",
       "      <th>leads</th>\n",
       "    </tr>\n",
       "  </thead>\n",
       "  <tbody>\n",
       "    <tr>\n",
       "      <th>0</th>\n",
       "      <td>SP</td>\n",
       "      <td>São Paulo</td>\n",
       "      <td>48.0</td>\n",
       "    </tr>\n",
       "    <tr>\n",
       "      <th>1</th>\n",
       "      <td>SP</td>\n",
       "      <td>Jarinu</td>\n",
       "      <td>28.0</td>\n",
       "    </tr>\n",
       "    <tr>\n",
       "      <th>2</th>\n",
       "      <td>RJ</td>\n",
       "      <td>Japeri</td>\n",
       "      <td>28.0</td>\n",
       "    </tr>\n",
       "  </tbody>\n",
       "</table>\n",
       "</div>"
      ],
      "text/plain": [
       "   uf     cidade  leads\n",
       "0  SP  São Paulo   48.0\n",
       "1  SP     Jarinu   28.0\n",
       "2  RJ     Japeri   28.0"
      ]
     },
     "execution_count": 52,
     "metadata": {},
     "output_type": "execute_result"
    }
   ],
   "source": [
    "df_cid = df_cid.reset_index()\n",
    "df_cid.head(3)"
   ]
  },
  {
   "cell_type": "code",
   "execution_count": 216,
   "metadata": {},
   "outputs": [
    {
     "data": {
      "image/png": "[encoded data removed]",
      "text/plain": [
       "<Figure size 864x1152 with 1 Axes>"
      ]
     },
     "metadata": {
      "needs_background": "light"
     },
     "output_type": "display_data"
    }
   ],
   "source": [
    "# Barplot da Média do número de leads por cidade\n",
    "# Como temos mais de 800 registros, vamos plotar apenas as 30 cidades com maior número de leads\n",
    "plt.figure(figsize = (12,16))\n",
    "\n",
    "sns.barplot(data = df_cid[0:50], y = df_cid.cidade[0:50], x = df_cid.leads[0:50], palette = 'colorblind', hue = df_cid.uf, dodge = False)\n",
    "plt.title('Média de leads por Cidade', fontdict = {'fontsize': 16}, weight = 'bold')\n",
    "plt.xlabel('Média de leads', fontdict = {'fontsize': 12})\n",
    "plt.ylabel('Estados', fontdict = {'fontsize': 12})\n",
    "plt.legend(loc = 'right')\n",
    "plt.show()"
   ]
  },
  {
   "cell_type": "markdown",
   "metadata": {},
   "source": [
    "> Pudemos confirmar a dominância do estado de SP nas cidades com as maiores médias de leads por anúncio."
   ]
  },
  {
   "cell_type": "markdown",
   "metadata": {},
   "source": [
    "> Das cidades com mais anúncios, apenas a capital São Paulo aparece com o maior número de leads"
   ]
  },
  {
   "cell_type": "markdown",
   "metadata": {},
   "source": [
    "### Plotagem de variáveis binárias"
   ]
  },
  {
   "cell_type": "code",
   "execution_count": 54,
   "metadata": {},
   "outputs": [
    {
     "data": {
      "text/plain": [
       "Index(['leads', 'alarme', 'airbag', 'arquente', 'bancocouro', 'arcondic',\n",
       "       'abs', 'desembtras', 'travaeletr', 'vidroseletr', 'rodasliga',\n",
       "       'sensorchuva', 'sensorestacion'],\n",
       "      dtype='object')"
      ]
     },
     "execution_count": 54,
     "metadata": {},
     "output_type": "execute_result"
    }
   ],
   "source": [
    "df_cat_bi.columns"
   ]
  },
  {
   "cell_type": "code",
   "execution_count": 55,
   "metadata": {},
   "outputs": [
    {
     "data": {
      "image/png": "[encoded data removed]",
      "text/plain": [
       "<Figure size 1296x1080 with 12 Axes>"
      ]
     },
     "metadata": {
      "needs_background": "light"
     },
     "output_type": "display_data"
    }
   ],
   "source": [
    "# Plot da média de leads para algumas variáveis categóricas\n",
    "# 0 -> Não, 1 -> Sim\n",
    "\n",
    "plt.figure(figsize = (18,15))\n",
    "\n",
    "for i in range(1,len(df_cat_bi.columns)):\n",
    "    \n",
    "    plt.subplot(3,4, i)\n",
    "    \n",
    "    df_plot = df_cat_bi.groupby(df_cat_bi.columns[i]).agg({'leads':'mean'})\n",
    "    df_plot = df_plot.reset_index()\n",
    "    df_plot.leads = df_plot.leads.apply(lambda x: round(x,2))\n",
    "    sns.barplot(data = df_plot, y = df_plot.leads, x = df_plot[df_cat_bi.columns[i]], palette = ['red','green'])\n",
    "    plt.title(f'Média de leads de Anúncios Com e Sem {df_cat_bi.columns[i]}', fontdict = {'fontsize':10})"
   ]
  },
  {
   "cell_type": "markdown",
   "metadata": {},
   "source": [
    "Pudemos notar que anúncios que tinham acessórios 'extras', tiveram maior número de leads"
   ]
  },
  {
   "cell_type": "code",
   "execution_count": 56,
   "metadata": {},
   "outputs": [
    {
     "data": {
      "text/plain": [
       "Index(['cod_anuncio', 'cod_cliente', 'cod_tipo_pessoa', 'prioridade', 'leads',\n",
       "       'views', 'cliques_telefone*', 'cod_marca_veiculo', 'cod_modelo_veiculo',\n",
       "       'cod_versao_veiculo', 'ano_modelo', 'cep_2dig', 'uf', 'cidade',\n",
       "       'vlr_anuncio', 'qtd_fotos', 'km_veiculo', 'vlr_mercado',\n",
       "       'flg_unico_dono', 'flg_licenciado', 'flg_ipva_pago',\n",
       "       'flg_todas_revisoes_concessionaria',\n",
       "       'flg_todas_revisoes_agenda_veiculo', 'flg_garantia_fabrica',\n",
       "       'flg_blindado', 'flg_aceita_troca', 'flg_adaptado_pcd', 'combustivel',\n",
       "       'cambio', 'portas', 'alarme', 'airbag', 'arquente', 'bancocouro',\n",
       "       'arcondic', 'abs', 'desembtras', 'travaeletr', 'vidroseletr',\n",
       "       'rodasliga', 'sensorchuva', 'sensorestacion'],\n",
       "      dtype='object')"
      ]
     },
     "execution_count": 56,
     "metadata": {},
     "output_type": "execute_result"
    }
   ],
   "source": [
    "df.columns"
   ]
  },
  {
   "cell_type": "code",
   "execution_count": 57,
   "metadata": {},
   "outputs": [],
   "source": [
    "df_cat_bi2 = df[['leads','flg_unico_dono', 'flg_licenciado', 'flg_ipva_pago','flg_todas_revisoes_concessionaria','flg_todas_revisoes_agenda_veiculo',\n",
    "                 'flg_garantia_fabrica','flg_blindado', 'flg_aceita_troca', 'flg_adaptado_pcd']]"
   ]
  },
  {
   "cell_type": "code",
   "execution_count": 59,
   "metadata": {},
   "outputs": [
    {
     "data": {
      "image/png": "[encoded data removed]",
      "text/plain": [
       "<Figure size 1296x1080 with 9 Axes>"
      ]
     },
     "metadata": {
      "needs_background": "light"
     },
     "output_type": "display_data"
    }
   ],
   "source": [
    "# Plot da média de leads para as variáveis categóricas binárias restantes\n",
    "# 0 -> Não, 1 -> Sim\n",
    "\n",
    "plt.figure(figsize = (18,15))\n",
    "\n",
    "for i in range(1,len(df_cat_bi2.columns)):\n",
    "    \n",
    "    plt.subplot(3,3, i)\n",
    "    \n",
    "    df_plot = df_cat_bi2.groupby(df_cat_bi2.columns[i]).agg({'leads':'mean'})\n",
    "    df_plot = df_plot.reset_index()\n",
    "    df_plot.leads = df_plot.leads.apply(lambda x: round(x,2))\n",
    "    sns.barplot(data = df_plot, y = df_plot.leads, x = df_plot[df_cat_bi2.columns[i]], palette = ['red','green'])\n",
    "    plt.title(f'Média de leads de Anúncios Com e Sem {df_cat_bi2.columns[i]}', fontdict = {'fontsize':10})"
   ]
  },
  {
   "cell_type": "markdown",
   "metadata": {},
   "source": [
    "Novamente, pudemos notar que anúncios que possuiam mais acessórios/opções, obtiveram maior número de leads"
   ]
  },
  {
   "cell_type": "markdown",
   "metadata": {},
   "source": [
    "## Variáveis Numéricas"
   ]
  },
  {
   "cell_type": "code",
   "execution_count": 66,
   "metadata": {},
   "outputs": [],
   "source": [
    "df_num = df[num_var]"
   ]
  },
  {
   "cell_type": "code",
   "execution_count": 67,
   "metadata": {},
   "outputs": [
    {
     "data": {
      "text/html": [
       "<div>\n",
       "<style scoped>\n",
       "    .dataframe tbody tr th:only-of-type {\n",
       "        vertical-align: middle;\n",
       "    }\n",
       "\n",
       "    .dataframe tbody tr th {\n",
       "        vertical-align: top;\n",
       "    }\n",
       "\n",
       "    .dataframe thead th {\n",
       "        text-align: right;\n",
       "    }\n",
       "</style>\n",
       "<table border=\"1\" class=\"dataframe\">\n",
       "  <thead>\n",
       "    <tr style=\"text-align: right;\">\n",
       "      <th></th>\n",
       "      <th>leads</th>\n",
       "      <th>views</th>\n",
       "      <th>cliques_telefone*</th>\n",
       "      <th>vlr_anuncio</th>\n",
       "      <th>qtd_fotos</th>\n",
       "      <th>km_veiculo</th>\n",
       "      <th>vlr_mercado</th>\n",
       "    </tr>\n",
       "  </thead>\n",
       "  <tbody>\n",
       "    <tr>\n",
       "      <th>2</th>\n",
       "      <td>0</td>\n",
       "      <td>0</td>\n",
       "      <td>6</td>\n",
       "      <td>31900.0</td>\n",
       "      <td>8</td>\n",
       "      <td>74000</td>\n",
       "      <td>26875.00573</td>\n",
       "    </tr>\n",
       "    <tr>\n",
       "      <th>3</th>\n",
       "      <td>0</td>\n",
       "      <td>0</td>\n",
       "      <td>2</td>\n",
       "      <td>25500.0</td>\n",
       "      <td>8</td>\n",
       "      <td>128000</td>\n",
       "      <td>23779.45322</td>\n",
       "    </tr>\n",
       "    <tr>\n",
       "      <th>4</th>\n",
       "      <td>0</td>\n",
       "      <td>0</td>\n",
       "      <td>10</td>\n",
       "      <td>23990.0</td>\n",
       "      <td>6</td>\n",
       "      <td>60000</td>\n",
       "      <td>22428.12461</td>\n",
       "    </tr>\n",
       "    <tr>\n",
       "      <th>9</th>\n",
       "      <td>0</td>\n",
       "      <td>0</td>\n",
       "      <td>13</td>\n",
       "      <td>44000.0</td>\n",
       "      <td>5</td>\n",
       "      <td>140000</td>\n",
       "      <td>45785.57787</td>\n",
       "    </tr>\n",
       "    <tr>\n",
       "      <th>21</th>\n",
       "      <td>0</td>\n",
       "      <td>0</td>\n",
       "      <td>8</td>\n",
       "      <td>18800.0</td>\n",
       "      <td>7</td>\n",
       "      <td>155000</td>\n",
       "      <td>20273.00157</td>\n",
       "    </tr>\n",
       "  </tbody>\n",
       "</table>\n",
       "</div>"
      ],
      "text/plain": [
       "    leads  views  cliques_telefone*  vlr_anuncio  qtd_fotos  km_veiculo  \\\n",
       "2       0      0                  6      31900.0          8       74000   \n",
       "3       0      0                  2      25500.0          8      128000   \n",
       "4       0      0                 10      23990.0          6       60000   \n",
       "9       0      0                 13      44000.0          5      140000   \n",
       "21      0      0                  8      18800.0          7      155000   \n",
       "\n",
       "    vlr_mercado  \n",
       "2   26875.00573  \n",
       "3   23779.45322  \n",
       "4   22428.12461  \n",
       "9   45785.57787  \n",
       "21  20273.00157  "
      ]
     },
     "execution_count": 67,
     "metadata": {},
     "output_type": "execute_result"
    }
   ],
   "source": [
    "df_num.head(5)"
   ]
  },
  {
   "cell_type": "code",
   "execution_count": 68,
   "metadata": {},
   "outputs": [
    {
     "data": {
      "text/html": [
       "<div>\n",
       "<style scoped>\n",
       "    .dataframe tbody tr th:only-of-type {\n",
       "        vertical-align: middle;\n",
       "    }\n",
       "\n",
       "    .dataframe tbody tr th {\n",
       "        vertical-align: top;\n",
       "    }\n",
       "\n",
       "    .dataframe thead th {\n",
       "        text-align: right;\n",
       "    }\n",
       "</style>\n",
       "<table border=\"1\" class=\"dataframe\">\n",
       "  <thead>\n",
       "    <tr style=\"text-align: right;\">\n",
       "      <th></th>\n",
       "      <th>leads</th>\n",
       "      <th>views</th>\n",
       "      <th>cliques_telefone*</th>\n",
       "      <th>vlr_anuncio</th>\n",
       "      <th>qtd_fotos</th>\n",
       "      <th>km_veiculo</th>\n",
       "      <th>vlr_mercado</th>\n",
       "    </tr>\n",
       "  </thead>\n",
       "  <tbody>\n",
       "    <tr>\n",
       "      <th>count</th>\n",
       "      <td>41322.000000</td>\n",
       "      <td>41322.000000</td>\n",
       "      <td>41322.000000</td>\n",
       "      <td>4.132200e+04</td>\n",
       "      <td>41322.000000</td>\n",
       "      <td>4.132200e+04</td>\n",
       "      <td>41322.000000</td>\n",
       "    </tr>\n",
       "    <tr>\n",
       "      <th>mean</th>\n",
       "      <td>3.600261</td>\n",
       "      <td>418.666473</td>\n",
       "      <td>6.569963</td>\n",
       "      <td>8.574010e+04</td>\n",
       "      <td>6.681138</td>\n",
       "      <td>2.126215e+05</td>\n",
       "      <td>52595.959593</td>\n",
       "    </tr>\n",
       "    <tr>\n",
       "      <th>std</th>\n",
       "      <td>8.712076</td>\n",
       "      <td>604.503062</td>\n",
       "      <td>8.842611</td>\n",
       "      <td>1.570972e+06</td>\n",
       "      <td>2.137584</td>\n",
       "      <td>1.421112e+07</td>\n",
       "      <td>41158.547585</td>\n",
       "    </tr>\n",
       "    <tr>\n",
       "      <th>min</th>\n",
       "      <td>0.000000</td>\n",
       "      <td>0.000000</td>\n",
       "      <td>0.000000</td>\n",
       "      <td>4.900000e+03</td>\n",
       "      <td>0.000000</td>\n",
       "      <td>0.000000e+00</td>\n",
       "      <td>6292.843540</td>\n",
       "    </tr>\n",
       "    <tr>\n",
       "      <th>25%</th>\n",
       "      <td>1.000000</td>\n",
       "      <td>88.000000</td>\n",
       "      <td>2.000000</td>\n",
       "      <td>3.090000e+04</td>\n",
       "      <td>6.000000</td>\n",
       "      <td>3.400000e+04</td>\n",
       "      <td>31366.764470</td>\n",
       "    </tr>\n",
       "    <tr>\n",
       "      <th>50%</th>\n",
       "      <td>1.000000</td>\n",
       "      <td>212.000000</td>\n",
       "      <td>4.000000</td>\n",
       "      <td>3.999000e+04</td>\n",
       "      <td>8.000000</td>\n",
       "      <td>5.926450e+04</td>\n",
       "      <td>40607.151760</td>\n",
       "    </tr>\n",
       "    <tr>\n",
       "      <th>75%</th>\n",
       "      <td>4.000000</td>\n",
       "      <td>472.000000</td>\n",
       "      <td>8.000000</td>\n",
       "      <td>6.089000e+04</td>\n",
       "      <td>8.000000</td>\n",
       "      <td>8.953100e+04</td>\n",
       "      <td>61358.535275</td>\n",
       "    </tr>\n",
       "    <tr>\n",
       "      <th>max</th>\n",
       "      <td>348.000000</td>\n",
       "      <td>4872.000000</td>\n",
       "      <td>205.000000</td>\n",
       "      <td>1.220000e+08</td>\n",
       "      <td>20.000000</td>\n",
       "      <td>2.147484e+09</td>\n",
       "      <td>921239.188800</td>\n",
       "    </tr>\n",
       "  </tbody>\n",
       "</table>\n",
       "</div>"
      ],
      "text/plain": [
       "              leads         views  cliques_telefone*   vlr_anuncio  \\\n",
       "count  41322.000000  41322.000000       41322.000000  4.132200e+04   \n",
       "mean       3.600261    418.666473           6.569963  8.574010e+04   \n",
       "std        8.712076    604.503062           8.842611  1.570972e+06   \n",
       "min        0.000000      0.000000           0.000000  4.900000e+03   \n",
       "25%        1.000000     88.000000           2.000000  3.090000e+04   \n",
       "50%        1.000000    212.000000           4.000000  3.999000e+04   \n",
       "75%        4.000000    472.000000           8.000000  6.089000e+04   \n",
       "max      348.000000   4872.000000         205.000000  1.220000e+08   \n",
       "\n",
       "          qtd_fotos    km_veiculo    vlr_mercado  \n",
       "count  41322.000000  4.132200e+04   41322.000000  \n",
       "mean       6.681138  2.126215e+05   52595.959593  \n",
       "std        2.137584  1.421112e+07   41158.547585  \n",
       "min        0.000000  0.000000e+00    6292.843540  \n",
       "25%        6.000000  3.400000e+04   31366.764470  \n",
       "50%        8.000000  5.926450e+04   40607.151760  \n",
       "75%        8.000000  8.953100e+04   61358.535275  \n",
       "max       20.000000  2.147484e+09  921239.188800  "
      ]
     },
     "execution_count": 68,
     "metadata": {},
     "output_type": "execute_result"
    }
   ],
   "source": [
    "df_num.describe()"
   ]
  },
  {
   "cell_type": "markdown",
   "metadata": {},
   "source": [
    "Não temos dicionarios para saber o que siginifica as colunas 'cod_marca_veiculo', 'cod_modelo_veiculo' e 'cod_versao_veiculo'."
   ]
  },
  {
   "cell_type": "markdown",
   "metadata": {},
   "source": [
    "> A grande maioria dos anuncios possuem lead baixos, cerca de 75% deles estão com até 4 leads (média de 3.6)"
   ]
  },
  {
   "cell_type": "markdown",
   "metadata": {},
   "source": [
    "### Feature Engineering"
   ]
  },
  {
   "cell_type": "code",
   "execution_count": 86,
   "metadata": {},
   "outputs": [
    {
     "name": "stderr",
     "output_type": "stream",
     "text": [
      "c:\\Users\\rafae\\anaconda3\\lib\\site-packages\\ipykernel_launcher.py:2: SettingWithCopyWarning: \n",
      "A value is trying to be set on a copy of a slice from a DataFrame.\n",
      "Try using .loc[row_indexer,col_indexer] = value instead\n",
      "\n",
      "See the caveats in the documentation: https://pandas.pydata.org/pandas-docs/stable/user_guide/indexing.html#returning-a-view-versus-a-copy\n",
      "  \n"
     ]
    }
   ],
   "source": [
    "# Vamos adicionar uma variável que mede o valor do anúncio comparado ao valor de mercado, para posteriormente compararmos com a variáavel 'lead'\n",
    "df_num['vlr_anuncio/mercado'] = df_num.vlr_anuncio / df_num.vlr_mercado"
   ]
  },
  {
   "cell_type": "code",
   "execution_count": 70,
   "metadata": {},
   "outputs": [
    {
     "data": {
      "text/plain": [
       "count    41322.000000\n",
       "mean         1.543564\n",
       "std         23.201835\n",
       "min          0.254317\n",
       "25%          0.960987\n",
       "50%          0.997143\n",
       "75%          1.023355\n",
       "max       1135.368309\n",
       "Name: vlr_anuncio/mercado, dtype: float64"
      ]
     },
     "execution_count": 70,
     "metadata": {},
     "output_type": "execute_result"
    }
   ],
   "source": [
    "df_num['vlr_anuncio/mercado'].describe()"
   ]
  },
  {
   "cell_type": "markdown",
   "metadata": {},
   "source": [
    "### Correlação"
   ]
  },
  {
   "cell_type": "code",
   "execution_count": 71,
   "metadata": {},
   "outputs": [
    {
     "data": {
      "image/png": "[encoded data removed]",
      "text/plain": [
       "<Figure size 1008x720 with 2 Axes>"
      ]
     },
     "metadata": {
      "needs_background": "light"
     },
     "output_type": "display_data"
    }
   ],
   "source": [
    "# Correlação das variáveis numéricas com a coluna 'leads'\n",
    "# Heatmap\n",
    "\n",
    "plt.figure(figsize = (14,10))\n",
    "\n",
    "\n",
    "sns.heatmap(df_num.corr(), annot = True, cmap = 'Reds')\n",
    "plt.title(\"Mapa de Calor da Correlação Entre as Variáveis Numéricas (e 'leads') \")\n",
    "plt.show()"
   ]
  },
  {
   "cell_type": "markdown",
   "metadata": {},
   "source": [
    "É possível ver um correlação entre a variável 'leads' e 'cliques_telefone*'.  \n",
    "Todas as outras variáveis não parecem ter forte correlação, inclusive a variável criada valor_anuncio/valor_mercado"
   ]
  },
  {
   "cell_type": "code",
   "execution_count": 72,
   "metadata": {},
   "outputs": [],
   "source": [
    "df.reset_index(drop = True, inplace = True)"
   ]
  },
  {
   "cell_type": "markdown",
   "metadata": {},
   "source": [
    "### Relação Leads x cliques_telefone"
   ]
  },
  {
   "cell_type": "code",
   "execution_count": 73,
   "metadata": {},
   "outputs": [
    {
     "data": {
      "image/png": "[encoded data removed]",
      "text/plain": [
       "<Figure size 648x504 with 1 Axes>"
      ]
     },
     "metadata": {
      "needs_background": "light"
     },
     "output_type": "display_data"
    }
   ],
   "source": [
    "plt.figure(figsize=(9,7))\n",
    "\n",
    "sns.regplot(data = df, x = 'cliques_telefone*', y = 'leads', color = 'r');"
   ]
  },
  {
   "cell_type": "markdown",
   "metadata": {},
   "source": [
    "Podemos notar uma relação positiva do numero de cliques no telefone com o numero de 'leads'.  "
   ]
  },
  {
   "cell_type": "markdown",
   "metadata": {},
   "source": [
    "### Relação Leads x Views"
   ]
  },
  {
   "cell_type": "code",
   "execution_count": 74,
   "metadata": {},
   "outputs": [
    {
     "data": {
      "image/png": "[encoded data removed]",
      "text/plain": [
       "<Figure size 648x504 with 1 Axes>"
      ]
     },
     "metadata": {
      "needs_background": "light"
     },
     "output_type": "display_data"
    }
   ],
   "source": [
    "plt.figure(figsize=(9,7))\n",
    "\n",
    "sns.regplot(data = df, x = 'views', y = 'leads', color = 'r');"
   ]
  },
  {
   "cell_type": "markdown",
   "metadata": {},
   "source": [
    "Como visto no mapa de correlações, não há uma forte correlação entre as variaveis 'leads' e 'views'.  \n",
    "No entanto, acredito que a variável 'view' devesse uma correlação mais forte a variável 'leads'.  \n",
    "Iremos tentar retirar valores outliers dessas variáveis para verificar se teremos um resultado diferente."
   ]
  },
  {
   "cell_type": "code",
   "execution_count": 75,
   "metadata": {},
   "outputs": [
    {
     "data": {
      "text/html": [
       "<div>\n",
       "<style scoped>\n",
       "    .dataframe tbody tr th:only-of-type {\n",
       "        vertical-align: middle;\n",
       "    }\n",
       "\n",
       "    .dataframe tbody tr th {\n",
       "        vertical-align: top;\n",
       "    }\n",
       "\n",
       "    .dataframe thead th {\n",
       "        text-align: right;\n",
       "    }\n",
       "</style>\n",
       "<table border=\"1\" class=\"dataframe\">\n",
       "  <thead>\n",
       "    <tr style=\"text-align: right;\">\n",
       "      <th></th>\n",
       "      <th>leads</th>\n",
       "      <th>views</th>\n",
       "    </tr>\n",
       "  </thead>\n",
       "  <tbody>\n",
       "    <tr>\n",
       "      <th>count</th>\n",
       "      <td>41322.000000</td>\n",
       "      <td>41322.000000</td>\n",
       "    </tr>\n",
       "    <tr>\n",
       "      <th>mean</th>\n",
       "      <td>3.600261</td>\n",
       "      <td>418.666473</td>\n",
       "    </tr>\n",
       "    <tr>\n",
       "      <th>std</th>\n",
       "      <td>8.712076</td>\n",
       "      <td>604.503062</td>\n",
       "    </tr>\n",
       "    <tr>\n",
       "      <th>min</th>\n",
       "      <td>0.000000</td>\n",
       "      <td>0.000000</td>\n",
       "    </tr>\n",
       "    <tr>\n",
       "      <th>25%</th>\n",
       "      <td>1.000000</td>\n",
       "      <td>88.000000</td>\n",
       "    </tr>\n",
       "    <tr>\n",
       "      <th>50%</th>\n",
       "      <td>1.000000</td>\n",
       "      <td>212.000000</td>\n",
       "    </tr>\n",
       "    <tr>\n",
       "      <th>75%</th>\n",
       "      <td>4.000000</td>\n",
       "      <td>472.000000</td>\n",
       "    </tr>\n",
       "    <tr>\n",
       "      <th>max</th>\n",
       "      <td>348.000000</td>\n",
       "      <td>4872.000000</td>\n",
       "    </tr>\n",
       "  </tbody>\n",
       "</table>\n",
       "</div>"
      ],
      "text/plain": [
       "              leads         views\n",
       "count  41322.000000  41322.000000\n",
       "mean       3.600261    418.666473\n",
       "std        8.712076    604.503062\n",
       "min        0.000000      0.000000\n",
       "25%        1.000000     88.000000\n",
       "50%        1.000000    212.000000\n",
       "75%        4.000000    472.000000\n",
       "max      348.000000   4872.000000"
      ]
     },
     "execution_count": 75,
     "metadata": {},
     "output_type": "execute_result"
    }
   ],
   "source": [
    "df[['leads', 'views']].describe()"
   ]
  },
  {
   "cell_type": "code",
   "execution_count": 76,
   "metadata": {},
   "outputs": [],
   "source": [
    "# Temos 1095 registros considaderados como outliers na coluna views que poderão ser tratados posteriormente\n",
    "# Temos 766 registros considaderados como outliers na coluna views que poderão ser tratados posteriormente"
   ]
  },
  {
   "cell_type": "code",
   "execution_count": 77,
   "metadata": {},
   "outputs": [],
   "source": [
    "# Criando um dataframe para alterar e analisar os dados\n",
    "df_eda = df.copy()"
   ]
  },
  {
   "cell_type": "code",
   "execution_count": 78,
   "metadata": {},
   "outputs": [],
   "source": [
    "# Retirando os outliers da coluna view\n",
    "df_eda = df_eda[(np.abs(stats.zscore(df_eda.views)) < 3)]"
   ]
  },
  {
   "cell_type": "code",
   "execution_count": 79,
   "metadata": {},
   "outputs": [],
   "source": [
    "# Retirando os outliers da coluna leads\n",
    "df_eda = df_eda[(np.abs(stats.zscore(df_eda.leads)) < 3)]"
   ]
  },
  {
   "cell_type": "code",
   "execution_count": 80,
   "metadata": {},
   "outputs": [
    {
     "data": {
      "text/plain": [
       "39461"
      ]
     },
     "execution_count": 80,
     "metadata": {},
     "output_type": "execute_result"
    }
   ],
   "source": [
    "# Ainda resta 39461 registros\n",
    "len(df_eda)"
   ]
  },
  {
   "cell_type": "code",
   "execution_count": 81,
   "metadata": {},
   "outputs": [
    {
     "data": {
      "text/html": [
       "<div>\n",
       "<style scoped>\n",
       "    .dataframe tbody tr th:only-of-type {\n",
       "        vertical-align: middle;\n",
       "    }\n",
       "\n",
       "    .dataframe tbody tr th {\n",
       "        vertical-align: top;\n",
       "    }\n",
       "\n",
       "    .dataframe thead th {\n",
       "        text-align: right;\n",
       "    }\n",
       "</style>\n",
       "<table border=\"1\" class=\"dataframe\">\n",
       "  <thead>\n",
       "    <tr style=\"text-align: right;\">\n",
       "      <th></th>\n",
       "      <th>leads</th>\n",
       "      <th>views</th>\n",
       "    </tr>\n",
       "  </thead>\n",
       "  <tbody>\n",
       "    <tr>\n",
       "      <th>leads</th>\n",
       "      <td>1.000000</td>\n",
       "      <td>-0.079524</td>\n",
       "    </tr>\n",
       "    <tr>\n",
       "      <th>views</th>\n",
       "      <td>-0.079524</td>\n",
       "      <td>1.000000</td>\n",
       "    </tr>\n",
       "  </tbody>\n",
       "</table>\n",
       "</div>"
      ],
      "text/plain": [
       "          leads     views\n",
       "leads  1.000000 -0.079524\n",
       "views -0.079524  1.000000"
      ]
     },
     "execution_count": 81,
     "metadata": {},
     "output_type": "execute_result"
    }
   ],
   "source": [
    "# Mesmo após a retirada dos outliers, as variáveis não pareceram ter uma forte correlação entre elas.\n",
    "df_eda[['leads','views']].corr()"
   ]
  },
  {
   "cell_type": "markdown",
   "metadata": {},
   "source": [
    "A correlação entre as variáveis diminuiu ainda mais."
   ]
  },
  {
   "cell_type": "code",
   "execution_count": 82,
   "metadata": {},
   "outputs": [
    {
     "data": {
      "image/png": "[encoded data removed]",
      "text/plain": [
       "<Figure size 648x504 with 1 Axes>"
      ]
     },
     "metadata": {
      "needs_background": "light"
     },
     "output_type": "display_data"
    }
   ],
   "source": [
    "# plot das colunas 'leads' e 'views' após tratamento de outliers\n",
    "plt.figure(figsize=(9,7))\n",
    "\n",
    "sns.regplot(data = df_eda, x = 'views', y = 'leads', color = 'r');"
   ]
  },
  {
   "cell_type": "markdown",
   "metadata": {},
   "source": [
    "Continuamos sem um relação significante entre as variáveis"
   ]
  },
  {
   "cell_type": "markdown",
   "metadata": {},
   "source": [
    "# Pré Processamento de Dados"
   ]
  },
  {
   "cell_type": "markdown",
   "metadata": {},
   "source": [
    "* Iremos usar variáveis que tiveram correlação de |0.15| ou maior"
   ]
  }
 ],
 "metadata": {
  "kernelspec": {
   "display_name": "Python 3.7.6 ('base')",
   "language": "python",
   "name": "python3"
  },
  "language_info": {
   "codemirror_mode": {
    "name": "ipython",
    "version": 3
   },
   "file_extension": ".py",
   "mimetype": "text/x-python",
   "name": "python",
   "nbconvert_exporter": "python",
   "pygments_lexer": "ipython3",
   "version": "3.7.6"
  },
  "orig_nbformat": 4,
  "vscode": {
   "interpreter": {
    "hash": "5321d52f472d9d44fe580412eb4884ad344a6c2d5efe9a2fa6eec8e499dc231d"
   }
  }
 },
 "nbformat": 4,
 "nbformat_minor": 2
}
